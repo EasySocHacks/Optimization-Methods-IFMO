{
 "cells": [
  {
   "cell_type": "code",
   "execution_count": 1,
   "metadata": {
    "collapsed": true
   },
   "outputs": [],
   "source": [
    "import numpy as np\n",
    "import pandas as pd\n",
    "from tqdm.auto import tqdm\n",
    "\n",
    "from HW2.benchmark_proceeder import BenchmarkStorage\n",
    "from HW2.error_calculator import *\n",
    "from HW2.regression_generator import generate_regression\n",
    "from HW2.sgd import sgd, minibatch_gd, gd\n",
    "from HW2.visualization import visualize_regression_point, visualize_line, draw_levels\n",
    "from HW2.optimization import *"
   ]
  },
  {
   "cell_type": "code",
   "execution_count": 2,
   "outputs": [
    {
     "data": {
      "text/plain": "<Figure size 432x288 with 1 Axes>",
      "image/png": "[encoded data removed]"
     },
     "metadata": {
      "needs_background": "light"
     },
     "output_type": "display_data"
    }
   ],
   "source": [
    "f, points, f_ab = generate_regression(f_scale=50, point_count=500, scale=np.array([3, 10]))\n",
    "\n",
    "visualize_regression_point(f, points, scale=3)\n",
    "\n",
    "storage = BenchmarkStorage()"
   ],
   "metadata": {
    "collapsed": false,
    "pycharm": {
     "name": "#%%\n"
    }
   }
  },
  {
   "cell_type": "code",
   "execution_count": 3,
   "outputs": [
    {
     "data": {
      "text/plain": "Errors:   0%|          | 0/3 [00:00<?, ?it/s]",
      "application/vnd.jupyter.widget-view+json": {
       "version_major": 2,
       "version_minor": 0,
       "model_id": "f7d28ef056584b3c841bed83e92a6499"
      }
     },
     "metadata": {},
     "output_type": "display_data"
    },
    {
     "data": {
      "text/plain": "Optimizations:   0%|          | 0/6 [00:00<?, ?it/s]",
      "application/vnd.jupyter.widget-view+json": {
       "version_major": 2,
       "version_minor": 0,
       "model_id": "c5b3205407d24dad9fa838d167778622"
      }
     },
     "metadata": {},
     "output_type": "display_data"
    },
    {
     "data": {
      "text/plain": "Batch sizes:   0%|          | 0/4 [00:00<?, ?it/s]",
      "application/vnd.jupyter.widget-view+json": {
       "version_major": 2,
       "version_minor": 0,
       "model_id": "89eedd6bf75247268df1a98865f177db"
      }
     },
     "metadata": {},
     "output_type": "display_data"
    },
    {
     "data": {
      "text/plain": "Batch sizes:   0%|          | 0/4 [00:00<?, ?it/s]",
      "application/vnd.jupyter.widget-view+json": {
       "version_major": 2,
       "version_minor": 0,
       "model_id": "1f30f66718664e8e8fc6478649315ac6"
      }
     },
     "metadata": {},
     "output_type": "display_data"
    },
    {
     "data": {
      "text/plain": "Batch sizes:   0%|          | 0/4 [00:00<?, ?it/s]",
      "application/vnd.jupyter.widget-view+json": {
       "version_major": 2,
       "version_minor": 0,
       "model_id": "6b9219d8b4584340ae93cea40315f1e9"
      }
     },
     "metadata": {},
     "output_type": "display_data"
    },
    {
     "data": {
      "text/plain": "Batch sizes:   0%|          | 0/4 [00:00<?, ?it/s]",
      "application/vnd.jupyter.widget-view+json": {
       "version_major": 2,
       "version_minor": 0,
       "model_id": "1032596befc24406b691be5089c5f13f"
      }
     },
     "metadata": {},
     "output_type": "display_data"
    },
    {
     "data": {
      "text/plain": "Batch sizes:   0%|          | 0/4 [00:00<?, ?it/s]",
      "application/vnd.jupyter.widget-view+json": {
       "version_major": 2,
       "version_minor": 0,
       "model_id": "533fb39310364a3ba3786e94a333fe1a"
      }
     },
     "metadata": {},
     "output_type": "display_data"
    },
    {
     "data": {
      "text/plain": "Batch sizes:   0%|          | 0/4 [00:00<?, ?it/s]",
      "application/vnd.jupyter.widget-view+json": {
       "version_major": 2,
       "version_minor": 0,
       "model_id": "31501b9e7bbf466db8f5f93af883c871"
      }
     },
     "metadata": {},
     "output_type": "display_data"
    },
    {
     "data": {
      "text/plain": "Optimizations:   0%|          | 0/6 [00:00<?, ?it/s]",
      "application/vnd.jupyter.widget-view+json": {
       "version_major": 2,
       "version_minor": 0,
       "model_id": "821dab61d0ae42b49717080e6993bf4a"
      }
     },
     "metadata": {},
     "output_type": "display_data"
    },
    {
     "data": {
      "text/plain": "Batch sizes:   0%|          | 0/4 [00:00<?, ?it/s]",
      "application/vnd.jupyter.widget-view+json": {
       "version_major": 2,
       "version_minor": 0,
       "model_id": "b5c5ad13f6da42399da9345b116dde7a"
      }
     },
     "metadata": {},
     "output_type": "display_data"
    },
    {
     "data": {
      "text/plain": "Batch sizes:   0%|          | 0/4 [00:00<?, ?it/s]",
      "application/vnd.jupyter.widget-view+json": {
       "version_major": 2,
       "version_minor": 0,
       "model_id": "bd3f94c0dd1042b28247e78ac33d1dd2"
      }
     },
     "metadata": {},
     "output_type": "display_data"
    },
    {
     "data": {
      "text/plain": "Batch sizes:   0%|          | 0/4 [00:00<?, ?it/s]",
      "application/vnd.jupyter.widget-view+json": {
       "version_major": 2,
       "version_minor": 0,
       "model_id": "000c742944d7405fa479f05e2d279356"
      }
     },
     "metadata": {},
     "output_type": "display_data"
    },
    {
     "data": {
      "text/plain": "Batch sizes:   0%|          | 0/4 [00:00<?, ?it/s]",
      "application/vnd.jupyter.widget-view+json": {
       "version_major": 2,
       "version_minor": 0,
       "model_id": "c415dec31f4749258cac14d7f0c16235"
      }
     },
     "metadata": {},
     "output_type": "display_data"
    },
    {
     "data": {
      "text/plain": "Batch sizes:   0%|          | 0/4 [00:00<?, ?it/s]",
      "application/vnd.jupyter.widget-view+json": {
       "version_major": 2,
       "version_minor": 0,
       "model_id": "2f54c9dd93ca4e288aa7debdb5245761"
      }
     },
     "metadata": {},
     "output_type": "display_data"
    },
    {
     "data": {
      "text/plain": "Batch sizes:   0%|          | 0/4 [00:00<?, ?it/s]",
      "application/vnd.jupyter.widget-view+json": {
       "version_major": 2,
       "version_minor": 0,
       "model_id": "86428ee264274525b449c9dc826a8d1e"
      }
     },
     "metadata": {},
     "output_type": "display_data"
    },
    {
     "data": {
      "text/plain": "Optimizations:   0%|          | 0/6 [00:00<?, ?it/s]",
      "application/vnd.jupyter.widget-view+json": {
       "version_major": 2,
       "version_minor": 0,
       "model_id": "82f87d7f1f23462291d4e8ab1afae98c"
      }
     },
     "metadata": {},
     "output_type": "display_data"
    },
    {
     "data": {
      "text/plain": "Batch sizes:   0%|          | 0/4 [00:00<?, ?it/s]",
      "application/vnd.jupyter.widget-view+json": {
       "version_major": 2,
       "version_minor": 0,
       "model_id": "77aae938289a40ac94e7768a2ec2604d"
      }
     },
     "metadata": {},
     "output_type": "display_data"
    },
    {
     "data": {
      "text/plain": "Batch sizes:   0%|          | 0/4 [00:00<?, ?it/s]",
      "application/vnd.jupyter.widget-view+json": {
       "version_major": 2,
       "version_minor": 0,
       "model_id": "40ee2659a8374f59a7019df5e0e9b02d"
      }
     },
     "metadata": {},
     "output_type": "display_data"
    },
    {
     "data": {
      "text/plain": "Batch sizes:   0%|          | 0/4 [00:00<?, ?it/s]",
      "application/vnd.jupyter.widget-view+json": {
       "version_major": 2,
       "version_minor": 0,
       "model_id": "11a45fbf63904ffa83d93330f75562b2"
      }
     },
     "metadata": {},
     "output_type": "display_data"
    },
    {
     "data": {
      "text/plain": "Batch sizes:   0%|          | 0/4 [00:00<?, ?it/s]",
      "application/vnd.jupyter.widget-view+json": {
       "version_major": 2,
       "version_minor": 0,
       "model_id": "a5edbba338ed4dddb57b2090996bd214"
      }
     },
     "metadata": {},
     "output_type": "display_data"
    },
    {
     "data": {
      "text/plain": "Batch sizes:   0%|          | 0/4 [00:00<?, ?it/s]",
      "application/vnd.jupyter.widget-view+json": {
       "version_major": 2,
       "version_minor": 0,
       "model_id": "8980bff97e114c099064583ebd088a71"
      }
     },
     "metadata": {},
     "output_type": "display_data"
    },
    {
     "data": {
      "text/plain": "Batch sizes:   0%|          | 0/4 [00:00<?, ?it/s]",
      "application/vnd.jupyter.widget-view+json": {
       "version_major": 2,
       "version_minor": 0,
       "model_id": "d83af30b4a2640eeaaada5680d42fadd"
      }
     },
     "metadata": {},
     "output_type": "display_data"
    },
    {
     "data": {
      "text/plain": "                                               Config  Mean time Mean mem  \\\n0   (1, 1, Default(no) optimization, Absolute erro...   0.265577     0.0B   \n1   (10, 1, Default(no) optimization, Absolute err...   0.463931     0.0B   \n2   (40, 1, Default(no) optimization, Absolute err...   1.444157     0.0B   \n3   (500, 1, Default(no) optimization, Absolute er...  15.937956     0.0B   \n4   (1, 1, Momentum optimization (beta=0.95), Abso...   0.157258     0.0B   \n..                                                ...        ...      ...   \n67  (500, 1, RMS prop optimization (gamma=0.5, eps...   6.826241     0.0B   \n68  (1, 1, Adam optimization (beta_1=0.9, beta_2=0...   0.150947     0.0B   \n69  (10, 1, Adam optimization (beta_1=0.9, beta_2=...   0.236934     0.0B   \n70  (40, 1, Adam optimization (beta_1=0.9, beta_2=...   0.661548     0.0B   \n71  (500, 1, Adam optimization (beta_1=0.9, beta_2...    6.68339     0.0B   \n\n   Mean SMAPE  Mean RMSE Mean logcosh Mean gradient calls Mean iterations  \n0    0.128317  10.051935     7.229838              1854.4          1854.4  \n1    0.129728   9.985436     7.192043             10622.5         1062.25  \n2     0.12985   9.981083     7.188617             42352.0          1058.8  \n3    0.129999   9.988686     7.196766            525500.0          1051.0  \n4    0.130049   10.03779     7.232884              1070.0          1070.0  \n..        ...        ...          ...                 ...             ...  \n67   0.125251   9.899258     7.082123            234000.0           468.0  \n68   0.127214   9.940956     7.131122               929.0           929.0  \n69     0.1258    9.91125     7.095446              5290.5          529.05  \n70   0.125723   9.902421     7.088346             19024.0           475.6  \n71   0.125423    9.90464     7.088869            229500.0           459.0  \n\n[72 rows x 8 columns]",
      "text/html": "<div>\n<style scoped>\n    .dataframe tbody tr th:only-of-type {\n        vertical-align: middle;\n    }\n\n    .dataframe tbody tr th {\n        vertical-align: top;\n    }\n\n    .dataframe thead th {\n        text-align: right;\n    }\n</style>\n<table border=\"1\" class=\"dataframe\">\n  <thead>\n    <tr style=\"text-align: right;\">\n      <th></th>\n      <th>Config</th>\n      <th>Mean time</th>\n      <th>Mean mem</th>\n      <th>Mean SMAPE</th>\n      <th>Mean RMSE</th>\n      <th>Mean logcosh</th>\n      <th>Mean gradient calls</th>\n      <th>Mean iterations</th>\n    </tr>\n  </thead>\n  <tbody>\n    <tr>\n      <th>0</th>\n      <td>(1, 1, Default(no) optimization, Absolute erro...</td>\n      <td>0.265577</td>\n      <td>0.0B</td>\n      <td>0.128317</td>\n      <td>10.051935</td>\n      <td>7.229838</td>\n      <td>1854.4</td>\n      <td>1854.4</td>\n    </tr>\n    <tr>\n      <th>1</th>\n      <td>(10, 1, Default(no) optimization, Absolute err...</td>\n      <td>0.463931</td>\n      <td>0.0B</td>\n      <td>0.129728</td>\n      <td>9.985436</td>\n      <td>7.192043</td>\n      <td>10622.5</td>\n      <td>1062.25</td>\n    </tr>\n    <tr>\n      <th>2</th>\n      <td>(40, 1, Default(no) optimization, Absolute err...</td>\n      <td>1.444157</td>\n      <td>0.0B</td>\n      <td>0.12985</td>\n      <td>9.981083</td>\n      <td>7.188617</td>\n      <td>42352.0</td>\n      <td>1058.8</td>\n    </tr>\n    <tr>\n      <th>3</th>\n      <td>(500, 1, Default(no) optimization, Absolute er...</td>\n      <td>15.937956</td>\n      <td>0.0B</td>\n      <td>0.129999</td>\n      <td>9.988686</td>\n      <td>7.196766</td>\n      <td>525500.0</td>\n      <td>1051.0</td>\n    </tr>\n    <tr>\n      <th>4</th>\n      <td>(1, 1, Momentum optimization (beta=0.95), Abso...</td>\n      <td>0.157258</td>\n      <td>0.0B</td>\n      <td>0.130049</td>\n      <td>10.03779</td>\n      <td>7.232884</td>\n      <td>1070.0</td>\n      <td>1070.0</td>\n    </tr>\n    <tr>\n      <th>...</th>\n      <td>...</td>\n      <td>...</td>\n      <td>...</td>\n      <td>...</td>\n      <td>...</td>\n      <td>...</td>\n      <td>...</td>\n      <td>...</td>\n    </tr>\n    <tr>\n      <th>67</th>\n      <td>(500, 1, RMS prop optimization (gamma=0.5, eps...</td>\n      <td>6.826241</td>\n      <td>0.0B</td>\n      <td>0.125251</td>\n      <td>9.899258</td>\n      <td>7.082123</td>\n      <td>234000.0</td>\n      <td>468.0</td>\n    </tr>\n    <tr>\n      <th>68</th>\n      <td>(1, 1, Adam optimization (beta_1=0.9, beta_2=0...</td>\n      <td>0.150947</td>\n      <td>0.0B</td>\n      <td>0.127214</td>\n      <td>9.940956</td>\n      <td>7.131122</td>\n      <td>929.0</td>\n      <td>929.0</td>\n    </tr>\n    <tr>\n      <th>69</th>\n      <td>(10, 1, Adam optimization (beta_1=0.9, beta_2=...</td>\n      <td>0.236934</td>\n      <td>0.0B</td>\n      <td>0.1258</td>\n      <td>9.91125</td>\n      <td>7.095446</td>\n      <td>5290.5</td>\n      <td>529.05</td>\n    </tr>\n    <tr>\n      <th>70</th>\n      <td>(40, 1, Adam optimization (beta_1=0.9, beta_2=...</td>\n      <td>0.661548</td>\n      <td>0.0B</td>\n      <td>0.125723</td>\n      <td>9.902421</td>\n      <td>7.088346</td>\n      <td>19024.0</td>\n      <td>475.6</td>\n    </tr>\n    <tr>\n      <th>71</th>\n      <td>(500, 1, Adam optimization (beta_1=0.9, beta_2...</td>\n      <td>6.68339</td>\n      <td>0.0B</td>\n      <td>0.125423</td>\n      <td>9.90464</td>\n      <td>7.088869</td>\n      <td>229500.0</td>\n      <td>459.0</td>\n    </tr>\n  </tbody>\n</table>\n<p>72 rows × 8 columns</p>\n</div>"
     },
     "execution_count": 3,
     "metadata": {},
     "output_type": "execute_result"
    }
   ],
   "source": [
    "errors = [AbsErrorCalculator(), SquaredErrorCalculator(), BoxErrorCalculator()]\n",
    "optimizators = [DefaultOptimization(), MomentumOptimization(0.95), NesterovOptimization(0.95), AdaGradOptimization(),\n",
    "                RMSPropOptimization(0.5), AdamOptimization()]\n",
    "\n",
    "batch_sizes = [1, 10, 40, len(points)]\n",
    "\n",
    "result = np.array([])\n",
    "for error in tqdm(errors, \"Errors\", position=0):\n",
    "    for optimizator in tqdm(optimizators, \"Optimizations\", position=1):\n",
    "        for batch_size in tqdm(batch_sizes, \"Batch sizes\", position=2):\n",
    "\n",
    "            index = storage.add_benchmark_config(batch_size=str(batch_size), optimiser=optimizator, error=error)\n",
    "            for _ in range(20 if batch_size != len(points) else 1):\n",
    "                ab, meta = minibatch_gd(points, batch_size=batch_size, error=error,\n",
    "                                        optimization=optimizator)\n",
    "                storage.add_benchmark_result(index, meta)\n",
    "            result = np.append(result, storage.get_benchmark_results_arrayed(index))\n",
    "\n",
    "result = result.reshape((-1, 8))\n",
    "df = pd.DataFrame(result, columns=[\n",
    "    'Config',\n",
    "    'Mean time',\n",
    "    'Mean mem',\n",
    "    'Mean SMAPE',\n",
    "    'Mean RMSE',\n",
    "    'Mean logcosh',\n",
    "    'Mean gradient calls',\n",
    "    'Mean iterations'\n",
    "])\n",
    "df.to_csv(\"data/2.4_dim2.csv\", sep='\\t')\n",
    "df"
   ],
   "metadata": {
    "collapsed": false,
    "pycharm": {
     "name": "#%%\n"
    }
   }
  },
  {
   "cell_type": "code",
   "execution_count": 6,
   "outputs": [
    {
     "name": "stdout",
     "output_type": "stream",
     "text": [
      "[ 12.29240945 -13.62489578 -22.8440675 ]\n"
     ]
    }
   ],
   "source": [
    "f, points, f_ab = generate_regression(f_scale=50, point_count=500, scale=np.array([3, 3, 10]))\n",
    "\n",
    "print(f_ab)\n",
    "\n",
    "storage = BenchmarkStorage()"
   ],
   "metadata": {
    "collapsed": false,
    "pycharm": {
     "name": "#%%\n"
    }
   }
  },
  {
   "cell_type": "code",
   "execution_count": 7,
   "outputs": [
    {
     "data": {
      "text/plain": "Errors:   0%|          | 0/3 [00:00<?, ?it/s]",
      "application/vnd.jupyter.widget-view+json": {
       "version_major": 2,
       "version_minor": 0,
       "model_id": "d69853ca167947448488d465af6f696b"
      }
     },
     "metadata": {},
     "output_type": "display_data"
    },
    {
     "data": {
      "text/plain": "Optimizations:   0%|          | 0/6 [00:00<?, ?it/s]",
      "application/vnd.jupyter.widget-view+json": {
       "version_major": 2,
       "version_minor": 0,
       "model_id": "547d5e37517c4c7a8011854e07015dda"
      }
     },
     "metadata": {},
     "output_type": "display_data"
    },
    {
     "data": {
      "text/plain": "Batch sizes:   0%|          | 0/4 [00:00<?, ?it/s]",
      "application/vnd.jupyter.widget-view+json": {
       "version_major": 2,
       "version_minor": 0,
       "model_id": "a4ea5d2bafa54c3b997114e1baf6e87f"
      }
     },
     "metadata": {},
     "output_type": "display_data"
    },
    {
     "data": {
      "text/plain": "Batch sizes:   0%|          | 0/4 [00:00<?, ?it/s]",
      "application/vnd.jupyter.widget-view+json": {
       "version_major": 2,
       "version_minor": 0,
       "model_id": "fff8ded97c984ab6b9fa1dcb7a524f32"
      }
     },
     "metadata": {},
     "output_type": "display_data"
    },
    {
     "data": {
      "text/plain": "Batch sizes:   0%|          | 0/4 [00:00<?, ?it/s]",
      "application/vnd.jupyter.widget-view+json": {
       "version_major": 2,
       "version_minor": 0,
       "model_id": "3fe6dd3d89c347fda03fc8dc13556d16"
      }
     },
     "metadata": {},
     "output_type": "display_data"
    },
    {
     "data": {
      "text/plain": "Batch sizes:   0%|          | 0/4 [00:00<?, ?it/s]",
      "application/vnd.jupyter.widget-view+json": {
       "version_major": 2,
       "version_minor": 0,
       "model_id": "a0b24d29f765463c80b5c0c2b366ac0a"
      }
     },
     "metadata": {},
     "output_type": "display_data"
    },
    {
     "data": {
      "text/plain": "Batch sizes:   0%|          | 0/4 [00:00<?, ?it/s]",
      "application/vnd.jupyter.widget-view+json": {
       "version_major": 2,
       "version_minor": 0,
       "model_id": "2d986ed53fac4ad8af2e54c5e3ffdb64"
      }
     },
     "metadata": {},
     "output_type": "display_data"
    },
    {
     "data": {
      "text/plain": "Batch sizes:   0%|          | 0/4 [00:00<?, ?it/s]",
      "application/vnd.jupyter.widget-view+json": {
       "version_major": 2,
       "version_minor": 0,
       "model_id": "ba114bf8846940a2a797a4616d6942a5"
      }
     },
     "metadata": {},
     "output_type": "display_data"
    },
    {
     "data": {
      "text/plain": "Optimizations:   0%|          | 0/6 [00:00<?, ?it/s]",
      "application/vnd.jupyter.widget-view+json": {
       "version_major": 2,
       "version_minor": 0,
       "model_id": "22ebc6125996445a8c12450f1f2ebce0"
      }
     },
     "metadata": {},
     "output_type": "display_data"
    },
    {
     "data": {
      "text/plain": "Batch sizes:   0%|          | 0/4 [00:00<?, ?it/s]",
      "application/vnd.jupyter.widget-view+json": {
       "version_major": 2,
       "version_minor": 0,
       "model_id": "ce7d26d573304a33b877c341b817d77a"
      }
     },
     "metadata": {},
     "output_type": "display_data"
    },
    {
     "data": {
      "text/plain": "Batch sizes:   0%|          | 0/4 [00:00<?, ?it/s]",
      "application/vnd.jupyter.widget-view+json": {
       "version_major": 2,
       "version_minor": 0,
       "model_id": "7c5aa9fa501140189cc245a745d01c28"
      }
     },
     "metadata": {},
     "output_type": "display_data"
    },
    {
     "data": {
      "text/plain": "Batch sizes:   0%|          | 0/4 [00:00<?, ?it/s]",
      "application/vnd.jupyter.widget-view+json": {
       "version_major": 2,
       "version_minor": 0,
       "model_id": "dfca4a3f2d714bac8a5309fae6696b79"
      }
     },
     "metadata": {},
     "output_type": "display_data"
    },
    {
     "data": {
      "text/plain": "Batch sizes:   0%|          | 0/4 [00:00<?, ?it/s]",
      "application/vnd.jupyter.widget-view+json": {
       "version_major": 2,
       "version_minor": 0,
       "model_id": "57dc14c9a6d54407a6d9b1f47751a438"
      }
     },
     "metadata": {},
     "output_type": "display_data"
    },
    {
     "data": {
      "text/plain": "Batch sizes:   0%|          | 0/4 [00:00<?, ?it/s]",
      "application/vnd.jupyter.widget-view+json": {
       "version_major": 2,
       "version_minor": 0,
       "model_id": "9bfcc235123945309fa18c9a208f4966"
      }
     },
     "metadata": {},
     "output_type": "display_data"
    },
    {
     "data": {
      "text/plain": "Batch sizes:   0%|          | 0/4 [00:00<?, ?it/s]",
      "application/vnd.jupyter.widget-view+json": {
       "version_major": 2,
       "version_minor": 0,
       "model_id": "32cf955fb06f47e1aa2bfdfdd555243a"
      }
     },
     "metadata": {},
     "output_type": "display_data"
    },
    {
     "data": {
      "text/plain": "Optimizations:   0%|          | 0/6 [00:00<?, ?it/s]",
      "application/vnd.jupyter.widget-view+json": {
       "version_major": 2,
       "version_minor": 0,
       "model_id": "2964f4cfa1634ae98b0a38b544dc9b3a"
      }
     },
     "metadata": {},
     "output_type": "display_data"
    },
    {
     "data": {
      "text/plain": "Batch sizes:   0%|          | 0/4 [00:00<?, ?it/s]",
      "application/vnd.jupyter.widget-view+json": {
       "version_major": 2,
       "version_minor": 0,
       "model_id": "5b7ae437b5694bafb39cdeaa1f633284"
      }
     },
     "metadata": {},
     "output_type": "display_data"
    },
    {
     "data": {
      "text/plain": "Batch sizes:   0%|          | 0/4 [00:00<?, ?it/s]",
      "application/vnd.jupyter.widget-view+json": {
       "version_major": 2,
       "version_minor": 0,
       "model_id": "b9cf2e179a7643a39ebb55ade559160b"
      }
     },
     "metadata": {},
     "output_type": "display_data"
    },
    {
     "data": {
      "text/plain": "Batch sizes:   0%|          | 0/4 [00:00<?, ?it/s]",
      "application/vnd.jupyter.widget-view+json": {
       "version_major": 2,
       "version_minor": 0,
       "model_id": "8e165d95b1c2416db8d86a8ee708897f"
      }
     },
     "metadata": {},
     "output_type": "display_data"
    },
    {
     "data": {
      "text/plain": "Batch sizes:   0%|          | 0/4 [00:00<?, ?it/s]",
      "application/vnd.jupyter.widget-view+json": {
       "version_major": 2,
       "version_minor": 0,
       "model_id": "fba6c11aca6a43bb9fbd08bfc5bbaa86"
      }
     },
     "metadata": {},
     "output_type": "display_data"
    },
    {
     "data": {
      "text/plain": "Batch sizes:   0%|          | 0/4 [00:00<?, ?it/s]",
      "application/vnd.jupyter.widget-view+json": {
       "version_major": 2,
       "version_minor": 0,
       "model_id": "c34f69bd334e4f20a9c6214390b89db5"
      }
     },
     "metadata": {},
     "output_type": "display_data"
    },
    {
     "data": {
      "text/plain": "Batch sizes:   0%|          | 0/4 [00:00<?, ?it/s]",
      "application/vnd.jupyter.widget-view+json": {
       "version_major": 2,
       "version_minor": 0,
       "model_id": "1a277ac616fc414c9ff8f20a21fdb4a7"
      }
     },
     "metadata": {},
     "output_type": "display_data"
    },
    {
     "data": {
      "text/plain": "                                               Config  Mean time Mean mem  \\\n0   (1, 1, Default(no) optimization, Absolute erro...   0.155411     0.0B   \n1   (10, 1, Default(no) optimization, Absolute err...   0.350965     0.0B   \n2   (40, 1, Default(no) optimization, Absolute err...   1.100395     0.0B   \n3   (500, 1, Default(no) optimization, Absolute er...  10.933264     0.0B   \n4   (1, 1, Momentum optimization (beta=0.95), Abso...     0.1371     0.0B   \n..                                                ...        ...      ...   \n67  (500, 1, RMS prop optimization (gamma=0.5, eps...   3.897793     0.0B   \n68  (1, 1, Adam optimization (beta_1=0.9, beta_2=0...   0.152123     0.0B   \n69  (10, 1, Adam optimization (beta_1=0.9, beta_2=...   0.191059     0.0B   \n70  (40, 1, Adam optimization (beta_1=0.9, beta_2=...   0.439578     0.0B   \n71  (500, 1, Adam optimization (beta_1=0.9, beta_2...   3.778712     0.0B   \n\n   Mean SMAPE  Mean RMSE Mean logcosh Mean gradient calls Mean iterations  \n0    0.228254   9.881799     7.161761             1073.35         1073.35  \n1    0.238414  10.280123     7.468056              7996.5          799.65  \n2     0.23917  10.302094     7.484976             31500.0           787.5  \n3    0.239485  10.310704     7.491668            391500.0           783.0  \n4     0.23439  10.097073     7.331131              865.45          865.45  \n..        ...        ...          ...                 ...             ...  \n67   0.223499   9.649764     6.997728            134500.0           269.0  \n68   0.226902   9.826407     7.127546               966.0           966.0  \n69   0.223904   9.695583     7.029344              4261.0           426.1  \n70    0.22327   9.672334     7.010937             12574.0          314.35  \n71   0.223475   9.659457     7.000078            130000.0           260.0  \n\n[72 rows x 8 columns]",
      "text/html": "<div>\n<style scoped>\n    .dataframe tbody tr th:only-of-type {\n        vertical-align: middle;\n    }\n\n    .dataframe tbody tr th {\n        vertical-align: top;\n    }\n\n    .dataframe thead th {\n        text-align: right;\n    }\n</style>\n<table border=\"1\" class=\"dataframe\">\n  <thead>\n    <tr style=\"text-align: right;\">\n      <th></th>\n      <th>Config</th>\n      <th>Mean time</th>\n      <th>Mean mem</th>\n      <th>Mean SMAPE</th>\n      <th>Mean RMSE</th>\n      <th>Mean logcosh</th>\n      <th>Mean gradient calls</th>\n      <th>Mean iterations</th>\n    </tr>\n  </thead>\n  <tbody>\n    <tr>\n      <th>0</th>\n      <td>(1, 1, Default(no) optimization, Absolute erro...</td>\n      <td>0.155411</td>\n      <td>0.0B</td>\n      <td>0.228254</td>\n      <td>9.881799</td>\n      <td>7.161761</td>\n      <td>1073.35</td>\n      <td>1073.35</td>\n    </tr>\n    <tr>\n      <th>1</th>\n      <td>(10, 1, Default(no) optimization, Absolute err...</td>\n      <td>0.350965</td>\n      <td>0.0B</td>\n      <td>0.238414</td>\n      <td>10.280123</td>\n      <td>7.468056</td>\n      <td>7996.5</td>\n      <td>799.65</td>\n    </tr>\n    <tr>\n      <th>2</th>\n      <td>(40, 1, Default(no) optimization, Absolute err...</td>\n      <td>1.100395</td>\n      <td>0.0B</td>\n      <td>0.23917</td>\n      <td>10.302094</td>\n      <td>7.484976</td>\n      <td>31500.0</td>\n      <td>787.5</td>\n    </tr>\n    <tr>\n      <th>3</th>\n      <td>(500, 1, Default(no) optimization, Absolute er...</td>\n      <td>10.933264</td>\n      <td>0.0B</td>\n      <td>0.239485</td>\n      <td>10.310704</td>\n      <td>7.491668</td>\n      <td>391500.0</td>\n      <td>783.0</td>\n    </tr>\n    <tr>\n      <th>4</th>\n      <td>(1, 1, Momentum optimization (beta=0.95), Abso...</td>\n      <td>0.1371</td>\n      <td>0.0B</td>\n      <td>0.23439</td>\n      <td>10.097073</td>\n      <td>7.331131</td>\n      <td>865.45</td>\n      <td>865.45</td>\n    </tr>\n    <tr>\n      <th>...</th>\n      <td>...</td>\n      <td>...</td>\n      <td>...</td>\n      <td>...</td>\n      <td>...</td>\n      <td>...</td>\n      <td>...</td>\n      <td>...</td>\n    </tr>\n    <tr>\n      <th>67</th>\n      <td>(500, 1, RMS prop optimization (gamma=0.5, eps...</td>\n      <td>3.897793</td>\n      <td>0.0B</td>\n      <td>0.223499</td>\n      <td>9.649764</td>\n      <td>6.997728</td>\n      <td>134500.0</td>\n      <td>269.0</td>\n    </tr>\n    <tr>\n      <th>68</th>\n      <td>(1, 1, Adam optimization (beta_1=0.9, beta_2=0...</td>\n      <td>0.152123</td>\n      <td>0.0B</td>\n      <td>0.226902</td>\n      <td>9.826407</td>\n      <td>7.127546</td>\n      <td>966.0</td>\n      <td>966.0</td>\n    </tr>\n    <tr>\n      <th>69</th>\n      <td>(10, 1, Adam optimization (beta_1=0.9, beta_2=...</td>\n      <td>0.191059</td>\n      <td>0.0B</td>\n      <td>0.223904</td>\n      <td>9.695583</td>\n      <td>7.029344</td>\n      <td>4261.0</td>\n      <td>426.1</td>\n    </tr>\n    <tr>\n      <th>70</th>\n      <td>(40, 1, Adam optimization (beta_1=0.9, beta_2=...</td>\n      <td>0.439578</td>\n      <td>0.0B</td>\n      <td>0.22327</td>\n      <td>9.672334</td>\n      <td>7.010937</td>\n      <td>12574.0</td>\n      <td>314.35</td>\n    </tr>\n    <tr>\n      <th>71</th>\n      <td>(500, 1, Adam optimization (beta_1=0.9, beta_2...</td>\n      <td>3.778712</td>\n      <td>0.0B</td>\n      <td>0.223475</td>\n      <td>9.659457</td>\n      <td>7.000078</td>\n      <td>130000.0</td>\n      <td>260.0</td>\n    </tr>\n  </tbody>\n</table>\n<p>72 rows × 8 columns</p>\n</div>"
     },
     "execution_count": 7,
     "metadata": {},
     "output_type": "execute_result"
    }
   ],
   "source": [
    "errors = [AbsErrorCalculator(), SquaredErrorCalculator(), BoxErrorCalculator()]\n",
    "optimizators = [DefaultOptimization(), MomentumOptimization(0.95, dim=3), NesterovOptimization(0.95, dim=3), AdaGradOptimization(dim=3),\n",
    "                RMSPropOptimization(0.5, dim=3), AdamOptimization(dim=3)]\n",
    "\n",
    "batch_sizes = [1, 10, 40, len(points)]\n",
    "\n",
    "result = np.array([])\n",
    "for error in tqdm(errors, \"Errors\", position=0):\n",
    "    for optimizator in tqdm(optimizators, \"Optimizations\", position=1):\n",
    "        for batch_size in tqdm(batch_sizes, \"Batch sizes\", position=2):\n",
    "\n",
    "            index = storage.add_benchmark_config(batch_size=str(batch_size), optimiser=optimizator, error=error)\n",
    "            for _ in range(20 if batch_size != len(points) else 1):\n",
    "                ab, meta = minibatch_gd(points, batch_size=batch_size, error=error,\n",
    "                                        optimization=optimizator)\n",
    "                storage.add_benchmark_result(index, meta)\n",
    "            result = np.append(result, storage.get_benchmark_results_arrayed(index))\n",
    "\n",
    "result = result.reshape((-1, 8))\n",
    "df = pd.DataFrame(result, columns=[\n",
    "    'Config',\n",
    "    'Mean time',\n",
    "    'Mean mem',\n",
    "    'Mean SMAPE',\n",
    "    'Mean RMSE',\n",
    "    'Mean logcosh',\n",
    "    'Mean gradient calls',\n",
    "    'Mean iterations'\n",
    "])\n",
    "df.to_csv(\"data/2.4_dim3.csv\", sep='\\t')\n",
    "df"
   ],
   "metadata": {
    "collapsed": false,
    "pycharm": {
     "name": "#%%\n"
    }
   }
  },
  {
   "cell_type": "code",
   "execution_count": 8,
   "outputs": [],
   "source": [
    "scale = np.array([10])\n",
    "\n"
   ],
   "metadata": {
    "collapsed": false,
    "pycharm": {
     "name": "#%%\n"
    }
   }
  },
  {
   "cell_type": "code",
   "execution_count": 9,
   "outputs": [
    {
     "data": {
      "text/plain": "dims:   0%|          | 0/20 [00:00<?, ?it/s]",
      "application/vnd.jupyter.widget-view+json": {
       "version_major": 2,
       "version_minor": 0,
       "model_id": "8f5da5b1781f41d2b401aa452c814431"
      }
     },
     "metadata": {},
     "output_type": "display_data"
    },
    {
     "name": "stderr",
     "output_type": "stream",
     "text": [
      "/home/easyhacks/Документы/git/Optimization-Methods-IFMO/HW2/sgd.py:42: RuntimeWarning: overflow encountered in cosh\n",
      "  np.array(list(map(lambda _point: np.log(np.cosh(scalar(_ab, _point) - _point[-1])), _points))))\n"
     ]
    },
    {
     "data": {
      "text/plain": "                                               Config Mean time Mean mem  \\\n0   (sgd_1, 1, Default(no) optimization, Squared e...  0.156104     0.0B   \n1   (sgd_2, 1, Default(no) optimization, Squared e...  0.309202     0.0B   \n2   (sgd_3, 1, Default(no) optimization, Squared e...   0.22763     0.0B   \n3   (sgd_4, 1, Default(no) optimization, Squared e...  0.283767     0.0B   \n4   (sgd_5, 1, Default(no) optimization, Squared e...  0.372461     0.0B   \n5   (sgd_6, 1, Default(no) optimization, Squared e...  0.442665     0.0B   \n6   (sgd_7, 1, Default(no) optimization, Squared e...  0.393043     0.0B   \n7   (sgd_8, 1, Default(no) optimization, Squared e...  0.593684  35.43kB   \n8   (sgd_9, 1, Default(no) optimization, Squared e...  0.399119     0.0B   \n9   (sgd_10, 1, Default(no) optimization, Squared ...  0.169339     0.0B   \n10  (sgd_11, 1, Default(no) optimization, Squared ...  0.089703     0.0B   \n11  (sgd_12, 1, Default(no) optimization, Squared ...  0.017217     0.0B   \n12  (sgd_13, 1, Default(no) optimization, Squared ...  0.015343     0.0B   \n13  (sgd_14, 1, Default(no) optimization, Squared ...  0.006663     0.0B   \n14  (sgd_15, 1, Default(no) optimization, Squared ...  0.005208     0.0B   \n15  (sgd_16, 1, Default(no) optimization, Squared ...  0.004807     0.0B   \n16  (sgd_17, 1, Default(no) optimization, Squared ...  0.004746     0.0B   \n17  (sgd_18, 1, Default(no) optimization, Squared ...   0.00481     0.0B   \n18  (sgd_19, 1, Default(no) optimization, Squared ...  0.004796     0.0B   \n19  (sgd_20, 1, Default(no) optimization, Squared ...  0.004833     0.0B   \n\n   Mean SMAPE   Mean RMSE Mean logcosh Mean gradient calls Mean iterations  \n0    0.364951    10.02358     7.379379             1119.65         1119.65  \n1    0.116136   10.502983      7.58477             2198.15         2198.15  \n2    0.118302   10.276483     7.538337             1613.15         1613.15  \n3    0.110696   10.488656     7.833076             1989.85         1989.85  \n4    0.129486   11.073249     8.295977             2565.95         2565.95  \n5    0.094062    11.10729     8.080465              2994.3          2994.3  \n6     0.18432   22.152685    17.194077              2638.8          2638.8  \n7    0.104305   14.819461    11.152373              3878.4          3878.4  \n8    0.311676   59.877842    47.630725             2624.15         2624.15  \n9    0.508472   80.235909    63.271421              1148.9          1148.9  \n10   0.749473  141.801327   114.837619               617.5           617.5  \n11   0.912754  143.748275   117.143459               133.7           133.7  \n12   0.938252  214.352026   171.674343               122.0           122.0  \n13   0.955036   158.73328   126.514127               63.35           63.35  \n14   0.967215  213.197477          inf               52.25           52.25  \n15   0.966167   202.32296   159.125694               50.25           50.25  \n16   0.966845  192.207634   151.025659                50.0            50.0  \n17   0.976734  267.733673          inf                50.0            50.0  \n18   0.972672  236.445325   186.541128                50.0            50.0  \n19   0.972449  237.429803          inf                50.0            50.0  ",
      "text/html": "<div>\n<style scoped>\n    .dataframe tbody tr th:only-of-type {\n        vertical-align: middle;\n    }\n\n    .dataframe tbody tr th {\n        vertical-align: top;\n    }\n\n    .dataframe thead th {\n        text-align: right;\n    }\n</style>\n<table border=\"1\" class=\"dataframe\">\n  <thead>\n    <tr style=\"text-align: right;\">\n      <th></th>\n      <th>Config</th>\n      <th>Mean time</th>\n      <th>Mean mem</th>\n      <th>Mean SMAPE</th>\n      <th>Mean RMSE</th>\n      <th>Mean logcosh</th>\n      <th>Mean gradient calls</th>\n      <th>Mean iterations</th>\n    </tr>\n  </thead>\n  <tbody>\n    <tr>\n      <th>0</th>\n      <td>(sgd_1, 1, Default(no) optimization, Squared e...</td>\n      <td>0.156104</td>\n      <td>0.0B</td>\n      <td>0.364951</td>\n      <td>10.02358</td>\n      <td>7.379379</td>\n      <td>1119.65</td>\n      <td>1119.65</td>\n    </tr>\n    <tr>\n      <th>1</th>\n      <td>(sgd_2, 1, Default(no) optimization, Squared e...</td>\n      <td>0.309202</td>\n      <td>0.0B</td>\n      <td>0.116136</td>\n      <td>10.502983</td>\n      <td>7.58477</td>\n      <td>2198.15</td>\n      <td>2198.15</td>\n    </tr>\n    <tr>\n      <th>2</th>\n      <td>(sgd_3, 1, Default(no) optimization, Squared e...</td>\n      <td>0.22763</td>\n      <td>0.0B</td>\n      <td>0.118302</td>\n      <td>10.276483</td>\n      <td>7.538337</td>\n      <td>1613.15</td>\n      <td>1613.15</td>\n    </tr>\n    <tr>\n      <th>3</th>\n      <td>(sgd_4, 1, Default(no) optimization, Squared e...</td>\n      <td>0.283767</td>\n      <td>0.0B</td>\n      <td>0.110696</td>\n      <td>10.488656</td>\n      <td>7.833076</td>\n      <td>1989.85</td>\n      <td>1989.85</td>\n    </tr>\n    <tr>\n      <th>4</th>\n      <td>(sgd_5, 1, Default(no) optimization, Squared e...</td>\n      <td>0.372461</td>\n      <td>0.0B</td>\n      <td>0.129486</td>\n      <td>11.073249</td>\n      <td>8.295977</td>\n      <td>2565.95</td>\n      <td>2565.95</td>\n    </tr>\n    <tr>\n      <th>5</th>\n      <td>(sgd_6, 1, Default(no) optimization, Squared e...</td>\n      <td>0.442665</td>\n      <td>0.0B</td>\n      <td>0.094062</td>\n      <td>11.10729</td>\n      <td>8.080465</td>\n      <td>2994.3</td>\n      <td>2994.3</td>\n    </tr>\n    <tr>\n      <th>6</th>\n      <td>(sgd_7, 1, Default(no) optimization, Squared e...</td>\n      <td>0.393043</td>\n      <td>0.0B</td>\n      <td>0.18432</td>\n      <td>22.152685</td>\n      <td>17.194077</td>\n      <td>2638.8</td>\n      <td>2638.8</td>\n    </tr>\n    <tr>\n      <th>7</th>\n      <td>(sgd_8, 1, Default(no) optimization, Squared e...</td>\n      <td>0.593684</td>\n      <td>35.43kB</td>\n      <td>0.104305</td>\n      <td>14.819461</td>\n      <td>11.152373</td>\n      <td>3878.4</td>\n      <td>3878.4</td>\n    </tr>\n    <tr>\n      <th>8</th>\n      <td>(sgd_9, 1, Default(no) optimization, Squared e...</td>\n      <td>0.399119</td>\n      <td>0.0B</td>\n      <td>0.311676</td>\n      <td>59.877842</td>\n      <td>47.630725</td>\n      <td>2624.15</td>\n      <td>2624.15</td>\n    </tr>\n    <tr>\n      <th>9</th>\n      <td>(sgd_10, 1, Default(no) optimization, Squared ...</td>\n      <td>0.169339</td>\n      <td>0.0B</td>\n      <td>0.508472</td>\n      <td>80.235909</td>\n      <td>63.271421</td>\n      <td>1148.9</td>\n      <td>1148.9</td>\n    </tr>\n    <tr>\n      <th>10</th>\n      <td>(sgd_11, 1, Default(no) optimization, Squared ...</td>\n      <td>0.089703</td>\n      <td>0.0B</td>\n      <td>0.749473</td>\n      <td>141.801327</td>\n      <td>114.837619</td>\n      <td>617.5</td>\n      <td>617.5</td>\n    </tr>\n    <tr>\n      <th>11</th>\n      <td>(sgd_12, 1, Default(no) optimization, Squared ...</td>\n      <td>0.017217</td>\n      <td>0.0B</td>\n      <td>0.912754</td>\n      <td>143.748275</td>\n      <td>117.143459</td>\n      <td>133.7</td>\n      <td>133.7</td>\n    </tr>\n    <tr>\n      <th>12</th>\n      <td>(sgd_13, 1, Default(no) optimization, Squared ...</td>\n      <td>0.015343</td>\n      <td>0.0B</td>\n      <td>0.938252</td>\n      <td>214.352026</td>\n      <td>171.674343</td>\n      <td>122.0</td>\n      <td>122.0</td>\n    </tr>\n    <tr>\n      <th>13</th>\n      <td>(sgd_14, 1, Default(no) optimization, Squared ...</td>\n      <td>0.006663</td>\n      <td>0.0B</td>\n      <td>0.955036</td>\n      <td>158.73328</td>\n      <td>126.514127</td>\n      <td>63.35</td>\n      <td>63.35</td>\n    </tr>\n    <tr>\n      <th>14</th>\n      <td>(sgd_15, 1, Default(no) optimization, Squared ...</td>\n      <td>0.005208</td>\n      <td>0.0B</td>\n      <td>0.967215</td>\n      <td>213.197477</td>\n      <td>inf</td>\n      <td>52.25</td>\n      <td>52.25</td>\n    </tr>\n    <tr>\n      <th>15</th>\n      <td>(sgd_16, 1, Default(no) optimization, Squared ...</td>\n      <td>0.004807</td>\n      <td>0.0B</td>\n      <td>0.966167</td>\n      <td>202.32296</td>\n      <td>159.125694</td>\n      <td>50.25</td>\n      <td>50.25</td>\n    </tr>\n    <tr>\n      <th>16</th>\n      <td>(sgd_17, 1, Default(no) optimization, Squared ...</td>\n      <td>0.004746</td>\n      <td>0.0B</td>\n      <td>0.966845</td>\n      <td>192.207634</td>\n      <td>151.025659</td>\n      <td>50.0</td>\n      <td>50.0</td>\n    </tr>\n    <tr>\n      <th>17</th>\n      <td>(sgd_18, 1, Default(no) optimization, Squared ...</td>\n      <td>0.00481</td>\n      <td>0.0B</td>\n      <td>0.976734</td>\n      <td>267.733673</td>\n      <td>inf</td>\n      <td>50.0</td>\n      <td>50.0</td>\n    </tr>\n    <tr>\n      <th>18</th>\n      <td>(sgd_19, 1, Default(no) optimization, Squared ...</td>\n      <td>0.004796</td>\n      <td>0.0B</td>\n      <td>0.972672</td>\n      <td>236.445325</td>\n      <td>186.541128</td>\n      <td>50.0</td>\n      <td>50.0</td>\n    </tr>\n    <tr>\n      <th>19</th>\n      <td>(sgd_20, 1, Default(no) optimization, Squared ...</td>\n      <td>0.004833</td>\n      <td>0.0B</td>\n      <td>0.972449</td>\n      <td>237.429803</td>\n      <td>inf</td>\n      <td>50.0</td>\n      <td>50.0</td>\n    </tr>\n  </tbody>\n</table>\n</div>"
     },
     "execution_count": 9,
     "metadata": {},
     "output_type": "execute_result"
    }
   ],
   "source": [
    "result = np.array([])\n",
    "\n",
    "for i in tqdm(range(20), \"dims\"):\n",
    "    scale = np.append([3], scale)\n",
    "    f, points, f_ab = generate_regression(f_scale=50, point_count=500, scale=scale)\n",
    "    index = storage.add_benchmark_config(batch_size='sgd_{}'.format(i + 1))\n",
    "    for _ in range(20):\n",
    "        ab, meta = sgd(points)\n",
    "        storage.add_benchmark_result(index, meta)\n",
    "    result = np.append(result, storage.get_benchmark_results_arrayed(index))\n",
    "result = result.reshape((-1, 8))\n",
    "\n",
    "df = pd.DataFrame(result, columns=[\n",
    "    'Config',\n",
    "    'Mean time',\n",
    "    'Mean mem',\n",
    "    'Mean SMAPE',\n",
    "    'Mean RMSE',\n",
    "    'Mean logcosh',\n",
    "    'Mean gradient calls',\n",
    "    'Mean iterations'\n",
    "])\n",
    "df.to_csv(\"data/2.4_ndims.csv\", sep='\\t')\n",
    "df"
   ],
   "metadata": {
    "collapsed": false,
    "pycharm": {
     "name": "#%%\n"
    }
   }
  },
  {
   "cell_type": "code",
   "execution_count": 5,
   "outputs": [
    {
     "name": "stdout",
     "output_type": "stream",
     "text": [
      "Real: [-49.66156216 -13.4923534  -29.54171417  37.65179465   5.12863733]\n"
     ]
    }
   ],
   "source": [
    "f, points, f_ab = generate_regression(f_scale=50, point_count=500, scale=np.array([3, 4, 5, 3, 10]))\n",
    "\n",
    "print(\"Real: {}\".format(f_ab))"
   ],
   "metadata": {
    "collapsed": false,
    "pycharm": {
     "name": "#%%\n"
    }
   }
  },
  {
   "cell_type": "code",
   "execution_count": 6,
   "outputs": [
    {
     "name": "stdout",
     "output_type": "stream",
     "text": [
      "Sgd: [-48.61246498 -13.83099864 -29.33534617  36.4470233    4.032787  ]\n"
     ]
    }
   ],
   "source": [
    "w, _ = sgd(points)\n",
    "\n",
    "print(\"Sgd: {}\".format(w))"
   ],
   "metadata": {
    "collapsed": false,
    "pycharm": {
     "name": "#%%\n"
    }
   }
  },
  {
   "cell_type": "code",
   "execution_count": 7,
   "outputs": [
    {
     "name": "stdout",
     "output_type": "stream",
     "text": [
      "Mini-50: [-47.63633287 -13.16619135 -29.55637194  35.74261655   2.79923154]\n"
     ]
    }
   ],
   "source": [
    "w, _ = minibatch_gd(points, batch_size=50)\n",
    "print(\"Mini-50: {}\".format(w))"
   ],
   "metadata": {
    "collapsed": false,
    "pycharm": {
     "name": "#%%\n"
    }
   }
  },
  {
   "cell_type": "code",
   "execution_count": 8,
   "outputs": [
    {
     "name": "stdout",
     "output_type": "stream",
     "text": [
      "Gd: [-47.41371071 -13.18818274 -29.5942649   35.34361993   2.88349159]\n"
     ]
    }
   ],
   "source": [
    "w, _ = gd(points)\n",
    "print(\"Gd: {}\".format(w))"
   ],
   "metadata": {
    "collapsed": false,
    "pycharm": {
     "name": "#%%\n"
    }
   }
  }
 ],
 "metadata": {
  "kernelspec": {
   "display_name": "Python 3",
   "language": "python",
   "name": "python3"
  },
  "language_info": {
   "codemirror_mode": {
    "name": "ipython",
    "version": 2
   },
   "file_extension": ".py",
   "mimetype": "text/x-python",
   "name": "python",
   "nbconvert_exporter": "python",
   "pygments_lexer": "ipython2",
   "version": "2.7.6"
  }
 },
 "nbformat": 4,
 "nbformat_minor": 0
}