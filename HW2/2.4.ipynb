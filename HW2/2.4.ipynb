{
 "cells": [
  {
   "cell_type": "code",
   "execution_count": 1,
   "metadata": {
    "collapsed": true
   },
   "outputs": [],
   "source": [
    "import numpy as np\n",
    "import pandas as pd\n",
    "from tqdm.auto import tqdm\n",
    "\n",
    "from HW2.benchmark_proceeder import BenchmarkStorage\n",
    "from HW2.error_calculator import *\n",
    "from HW2.regression_generator import generate_regression\n",
    "from HW2.sgd import sgd, minibatch_gd, gd\n",
    "from HW2.visualization import visualize_regression_point, visualize_line, draw_levels\n",
    "from HW2.optimization import *"
   ]
  },
  {
   "cell_type": "code",
   "execution_count": 2,
   "outputs": [
    {
     "data": {
      "text/plain": "<Figure size 432x288 with 1 Axes>",
      "image/png": "[encoded data removed]"
     },
     "metadata": {
      "needs_background": "light"
     },
     "output_type": "display_data"
    }
   ],
   "source": [
    "f, points = generate_regression(point_count=500, scale=3, y_scale=10)\n",
    "\n",
    "visualize_regression_point(f, points)\n",
    "\n",
    "storage = BenchmarkStorage()"
   ],
   "metadata": {
    "collapsed": false,
    "pycharm": {
     "name": "#%%\n"
    }
   }
  },
  {
   "cell_type": "code",
   "execution_count": 4,
   "outputs": [
    {
     "data": {
      "text/plain": "Errors:   0%|          | 0/3 [00:00<?, ?it/s]",
      "application/vnd.jupyter.widget-view+json": {
       "version_major": 2,
       "version_minor": 0,
       "model_id": "d027751e262f457895d4f0245fca965a"
      }
     },
     "metadata": {},
     "output_type": "display_data"
    },
    {
     "data": {
      "text/plain": "Optimizations:   0%|          | 0/6 [00:00<?, ?it/s]",
      "application/vnd.jupyter.widget-view+json": {
       "version_major": 2,
       "version_minor": 0,
       "model_id": "a943ffa583204cf9b5809b5cd002f24b"
      }
     },
     "metadata": {},
     "output_type": "display_data"
    },
    {
     "data": {
      "text/plain": "Batch sizes:   0%|          | 0/4 [00:00<?, ?it/s]",
      "application/vnd.jupyter.widget-view+json": {
       "version_major": 2,
       "version_minor": 0,
       "model_id": "8a2d996fbcee4d44b7fedf8410557ff3"
      }
     },
     "metadata": {},
     "output_type": "display_data"
    },
    {
     "data": {
      "text/plain": "Batch sizes:   0%|          | 0/4 [00:00<?, ?it/s]",
      "application/vnd.jupyter.widget-view+json": {
       "version_major": 2,
       "version_minor": 0,
       "model_id": "43ce7e171b574aa3bda009ac100b284b"
      }
     },
     "metadata": {},
     "output_type": "display_data"
    },
    {
     "data": {
      "text/plain": "Batch sizes:   0%|          | 0/4 [00:00<?, ?it/s]",
      "application/vnd.jupyter.widget-view+json": {
       "version_major": 2,
       "version_minor": 0,
       "model_id": "ae436f32e0f6496ca59edb5b534a2a17"
      }
     },
     "metadata": {},
     "output_type": "display_data"
    },
    {
     "data": {
      "text/plain": "Batch sizes:   0%|          | 0/4 [00:00<?, ?it/s]",
      "application/vnd.jupyter.widget-view+json": {
       "version_major": 2,
       "version_minor": 0,
       "model_id": "9fd2e6dc32514917a8b756cd6c9ba042"
      }
     },
     "metadata": {},
     "output_type": "display_data"
    },
    {
     "data": {
      "text/plain": "Batch sizes:   0%|          | 0/4 [00:00<?, ?it/s]",
      "application/vnd.jupyter.widget-view+json": {
       "version_major": 2,
       "version_minor": 0,
       "model_id": "3bb47bedbeef4cf7a66237c29ab733fb"
      }
     },
     "metadata": {},
     "output_type": "display_data"
    },
    {
     "data": {
      "text/plain": "Batch sizes:   0%|          | 0/4 [00:00<?, ?it/s]",
      "application/vnd.jupyter.widget-view+json": {
       "version_major": 2,
       "version_minor": 0,
       "model_id": "bedc761ccbce4d888ba7633cc1b6ae3b"
      }
     },
     "metadata": {},
     "output_type": "display_data"
    },
    {
     "data": {
      "text/plain": "Optimizations:   0%|          | 0/6 [00:00<?, ?it/s]",
      "application/vnd.jupyter.widget-view+json": {
       "version_major": 2,
       "version_minor": 0,
       "model_id": "27ec59f67cd44bbdb05bc1b305110f36"
      }
     },
     "metadata": {},
     "output_type": "display_data"
    },
    {
     "data": {
      "text/plain": "Batch sizes:   0%|          | 0/4 [00:00<?, ?it/s]",
      "application/vnd.jupyter.widget-view+json": {
       "version_major": 2,
       "version_minor": 0,
       "model_id": "5876dd4dc64741b584236677438566c2"
      }
     },
     "metadata": {},
     "output_type": "display_data"
    },
    {
     "data": {
      "text/plain": "Batch sizes:   0%|          | 0/4 [00:00<?, ?it/s]",
      "application/vnd.jupyter.widget-view+json": {
       "version_major": 2,
       "version_minor": 0,
       "model_id": "4152e08545fa4a299d08b8a28201b0a8"
      }
     },
     "metadata": {},
     "output_type": "display_data"
    },
    {
     "data": {
      "text/plain": "Batch sizes:   0%|          | 0/4 [00:00<?, ?it/s]",
      "application/vnd.jupyter.widget-view+json": {
       "version_major": 2,
       "version_minor": 0,
       "model_id": "a7d546e720a14a6095598b7f3b7fee20"
      }
     },
     "metadata": {},
     "output_type": "display_data"
    },
    {
     "data": {
      "text/plain": "Batch sizes:   0%|          | 0/4 [00:00<?, ?it/s]",
      "application/vnd.jupyter.widget-view+json": {
       "version_major": 2,
       "version_minor": 0,
       "model_id": "882576c6851145bb81010e6b71336a22"
      }
     },
     "metadata": {},
     "output_type": "display_data"
    },
    {
     "data": {
      "text/plain": "Batch sizes:   0%|          | 0/4 [00:00<?, ?it/s]",
      "application/vnd.jupyter.widget-view+json": {
       "version_major": 2,
       "version_minor": 0,
       "model_id": "3de769db17ab4172b033e0c90a8b2359"
      }
     },
     "metadata": {},
     "output_type": "display_data"
    },
    {
     "data": {
      "text/plain": "Batch sizes:   0%|          | 0/4 [00:00<?, ?it/s]",
      "application/vnd.jupyter.widget-view+json": {
       "version_major": 2,
       "version_minor": 0,
       "model_id": "fcac62fbeb5c4e9fb9d4b1baefe9add9"
      }
     },
     "metadata": {},
     "output_type": "display_data"
    },
    {
     "data": {
      "text/plain": "Optimizations:   0%|          | 0/6 [00:00<?, ?it/s]",
      "application/vnd.jupyter.widget-view+json": {
       "version_major": 2,
       "version_minor": 0,
       "model_id": "9ab25ed90db14f0b89bed35215703695"
      }
     },
     "metadata": {},
     "output_type": "display_data"
    },
    {
     "data": {
      "text/plain": "Batch sizes:   0%|          | 0/4 [00:00<?, ?it/s]",
      "application/vnd.jupyter.widget-view+json": {
       "version_major": 2,
       "version_minor": 0,
       "model_id": "49c91adee3c6489f8b896cda39f8d77f"
      }
     },
     "metadata": {},
     "output_type": "display_data"
    },
    {
     "data": {
      "text/plain": "Batch sizes:   0%|          | 0/4 [00:00<?, ?it/s]",
      "application/vnd.jupyter.widget-view+json": {
       "version_major": 2,
       "version_minor": 0,
       "model_id": "06e3e3f3634b444f8505aaf08790683c"
      }
     },
     "metadata": {},
     "output_type": "display_data"
    },
    {
     "data": {
      "text/plain": "Batch sizes:   0%|          | 0/4 [00:00<?, ?it/s]",
      "application/vnd.jupyter.widget-view+json": {
       "version_major": 2,
       "version_minor": 0,
       "model_id": "d8f41fa145074ee0953bc2ad25f8e259"
      }
     },
     "metadata": {},
     "output_type": "display_data"
    },
    {
     "data": {
      "text/plain": "Batch sizes:   0%|          | 0/4 [00:00<?, ?it/s]",
      "application/vnd.jupyter.widget-view+json": {
       "version_major": 2,
       "version_minor": 0,
       "model_id": "9b2e0716397947c98b500b68cbc24a85"
      }
     },
     "metadata": {},
     "output_type": "display_data"
    },
    {
     "data": {
      "text/plain": "Batch sizes:   0%|          | 0/4 [00:00<?, ?it/s]",
      "application/vnd.jupyter.widget-view+json": {
       "version_major": 2,
       "version_minor": 0,
       "model_id": "cb1fee7b672b4d978dd1fbc993d81c1f"
      }
     },
     "metadata": {},
     "output_type": "display_data"
    },
    {
     "data": {
      "text/plain": "Batch sizes:   0%|          | 0/4 [00:00<?, ?it/s]",
      "application/vnd.jupyter.widget-view+json": {
       "version_major": 2,
       "version_minor": 0,
       "model_id": "c07dc8c9ec5941a1be6a12c965904175"
      }
     },
     "metadata": {},
     "output_type": "display_data"
    },
    {
     "data": {
      "text/plain": "                                               Config Mean time Mean mem  \\\n0   (1, 1, Default(no) optimization, Absolute erro...  0.030101   819.2B   \n1   (10, 1, Default(no) optimization, Absolute err...  0.015199     0.0B   \n2   (40, 1, Default(no) optimization, Absolute err...  0.037953     0.0B   \n3   (500, 1, Default(no) optimization, Absolute er...  0.400954     0.0B   \n4   (1, 1, Momentum optimization (beta=0.95), Abso...   0.00615     0.0B   \n..                                                ...       ...      ...   \n67  (500, 1, RMS prop optimization (gamma=0.5, eps...  0.355961     0.0B   \n68  (1, 1, Adam optimization (beta_1=0.9, beta_2=0...  0.037501     0.0B   \n69  (10, 1, Adam optimization (beta_1=0.9, beta_2=...  0.031295     0.0B   \n70  (40, 1, Adam optimization (beta_1=0.9, beta_2=...  0.075541     0.0B   \n71  (500, 1, Adam optimization (beta_1=0.9, beta_2...  0.490998     0.0B   \n\n   Mean SMAPE  Mean RMSE Mean logcosh Mean gradient calls Mean iterations  \n0    0.613031  10.435914     7.589889              135.85          135.85  \n1    0.620204  10.414262     7.578746               509.5           50.95  \n2    0.616097  10.382698     7.555353              2000.0            50.0  \n3    0.613766  10.373231     7.548012             25000.0            50.0  \n4    0.603602    10.5295     7.649577               56.05           56.05  \n..        ...        ...          ...                 ...             ...  \n67   0.600023  10.338193     7.518798             26500.0            53.0  \n68   0.616873  10.636704     7.743357              356.45          356.45  \n69   0.597537  10.370989     7.537859              1336.0           133.6  \n70    0.59732  10.351073     7.527119              4968.0           124.2  \n71   0.593014  10.333052     7.511585             35500.0            71.0  \n\n[72 rows x 8 columns]",
      "text/html": "<div>\n<style scoped>\n    .dataframe tbody tr th:only-of-type {\n        vertical-align: middle;\n    }\n\n    .dataframe tbody tr th {\n        vertical-align: top;\n    }\n\n    .dataframe thead th {\n        text-align: right;\n    }\n</style>\n<table border=\"1\" class=\"dataframe\">\n  <thead>\n    <tr style=\"text-align: right;\">\n      <th></th>\n      <th>Config</th>\n      <th>Mean time</th>\n      <th>Mean mem</th>\n      <th>Mean SMAPE</th>\n      <th>Mean RMSE</th>\n      <th>Mean logcosh</th>\n      <th>Mean gradient calls</th>\n      <th>Mean iterations</th>\n    </tr>\n  </thead>\n  <tbody>\n    <tr>\n      <th>0</th>\n      <td>(1, 1, Default(no) optimization, Absolute erro...</td>\n      <td>0.030101</td>\n      <td>819.2B</td>\n      <td>0.613031</td>\n      <td>10.435914</td>\n      <td>7.589889</td>\n      <td>135.85</td>\n      <td>135.85</td>\n    </tr>\n    <tr>\n      <th>1</th>\n      <td>(10, 1, Default(no) optimization, Absolute err...</td>\n      <td>0.015199</td>\n      <td>0.0B</td>\n      <td>0.620204</td>\n      <td>10.414262</td>\n      <td>7.578746</td>\n      <td>509.5</td>\n      <td>50.95</td>\n    </tr>\n    <tr>\n      <th>2</th>\n      <td>(40, 1, Default(no) optimization, Absolute err...</td>\n      <td>0.037953</td>\n      <td>0.0B</td>\n      <td>0.616097</td>\n      <td>10.382698</td>\n      <td>7.555353</td>\n      <td>2000.0</td>\n      <td>50.0</td>\n    </tr>\n    <tr>\n      <th>3</th>\n      <td>(500, 1, Default(no) optimization, Absolute er...</td>\n      <td>0.400954</td>\n      <td>0.0B</td>\n      <td>0.613766</td>\n      <td>10.373231</td>\n      <td>7.548012</td>\n      <td>25000.0</td>\n      <td>50.0</td>\n    </tr>\n    <tr>\n      <th>4</th>\n      <td>(1, 1, Momentum optimization (beta=0.95), Abso...</td>\n      <td>0.00615</td>\n      <td>0.0B</td>\n      <td>0.603602</td>\n      <td>10.5295</td>\n      <td>7.649577</td>\n      <td>56.05</td>\n      <td>56.05</td>\n    </tr>\n    <tr>\n      <th>...</th>\n      <td>...</td>\n      <td>...</td>\n      <td>...</td>\n      <td>...</td>\n      <td>...</td>\n      <td>...</td>\n      <td>...</td>\n      <td>...</td>\n    </tr>\n    <tr>\n      <th>67</th>\n      <td>(500, 1, RMS prop optimization (gamma=0.5, eps...</td>\n      <td>0.355961</td>\n      <td>0.0B</td>\n      <td>0.600023</td>\n      <td>10.338193</td>\n      <td>7.518798</td>\n      <td>26500.0</td>\n      <td>53.0</td>\n    </tr>\n    <tr>\n      <th>68</th>\n      <td>(1, 1, Adam optimization (beta_1=0.9, beta_2=0...</td>\n      <td>0.037501</td>\n      <td>0.0B</td>\n      <td>0.616873</td>\n      <td>10.636704</td>\n      <td>7.743357</td>\n      <td>356.45</td>\n      <td>356.45</td>\n    </tr>\n    <tr>\n      <th>69</th>\n      <td>(10, 1, Adam optimization (beta_1=0.9, beta_2=...</td>\n      <td>0.031295</td>\n      <td>0.0B</td>\n      <td>0.597537</td>\n      <td>10.370989</td>\n      <td>7.537859</td>\n      <td>1336.0</td>\n      <td>133.6</td>\n    </tr>\n    <tr>\n      <th>70</th>\n      <td>(40, 1, Adam optimization (beta_1=0.9, beta_2=...</td>\n      <td>0.075541</td>\n      <td>0.0B</td>\n      <td>0.59732</td>\n      <td>10.351073</td>\n      <td>7.527119</td>\n      <td>4968.0</td>\n      <td>124.2</td>\n    </tr>\n    <tr>\n      <th>71</th>\n      <td>(500, 1, Adam optimization (beta_1=0.9, beta_2...</td>\n      <td>0.490998</td>\n      <td>0.0B</td>\n      <td>0.593014</td>\n      <td>10.333052</td>\n      <td>7.511585</td>\n      <td>35500.0</td>\n      <td>71.0</td>\n    </tr>\n  </tbody>\n</table>\n<p>72 rows × 8 columns</p>\n</div>"
     },
     "execution_count": 4,
     "metadata": {},
     "output_type": "execute_result"
    }
   ],
   "source": [
    "errors = [AbsErrorCalculator(), SquaredErrorCalculator(), BoxErrorCalculator()]\n",
    "optimizators = [DefaultOptimization(), MomentumOptimization(0.95), NesterovOptimization(0.95), AdaGradOptimization(),\n",
    "                RMSPropOptimization(0.5), AdamOptimization()]\n",
    "\n",
    "batch_sizes = [1, 10, 40, len(points)]\n",
    "\n",
    "result = np.array([])\n",
    "for error in tqdm(errors, \"Errors\", position=0):\n",
    "    for optimizator in tqdm(optimizators, \"Optimizations\", position=1):\n",
    "        for batch_size in tqdm(batch_sizes, \"Batch sizes\", position=2):\n",
    "\n",
    "            index = storage.add_benchmark_config(batch_size=str(batch_size), optimiser=optimizator, error=error)\n",
    "            for _ in range(20 if batch_size != len(points) else 1):\n",
    "                ab, meta = minibatch_gd(points, batch_size=batch_size, error=error,\n",
    "                                        optimization=optimizator)\n",
    "                storage.add_benchmark_result(index, meta)\n",
    "            result = np.append(result, storage.get_benchmark_results_arrayed(index))\n",
    "\n",
    "\n",
    "result = result.reshape((-1, 8))\n",
    "df = pd.DataFrame(result, columns=[\n",
    "    'Config',\n",
    "    'Mean time',\n",
    "    'Mean mem',\n",
    "    'Mean SMAPE',\n",
    "    'Mean RMSE',\n",
    "    'Mean logcosh',\n",
    "    'Mean gradient calls',\n",
    "    'Mean iterations'\n",
    "])\n",
    "df.to_csv(\"data/2.4.csv\", sep='\\t')\n",
    "df"
   ],
   "metadata": {
    "collapsed": false,
    "pycharm": {
     "name": "#%%\n"
    }
   }
  }
 ],
 "metadata": {
  "kernelspec": {
   "display_name": "Python 3",
   "language": "python",
   "name": "python3"
  },
  "language_info": {
   "codemirror_mode": {
    "name": "ipython",
    "version": 2
   },
   "file_extension": ".py",
   "mimetype": "text/x-python",
   "name": "python",
   "nbconvert_exporter": "python",
   "pygments_lexer": "ipython2",
   "version": "2.7.6"
  }
 },
 "nbformat": 4,
 "nbformat_minor": 0
}