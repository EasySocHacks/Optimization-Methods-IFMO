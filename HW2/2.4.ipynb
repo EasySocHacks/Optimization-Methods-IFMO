{
 "cells": [
  {
   "cell_type": "code",
   "execution_count": 1,
   "metadata": {
    "collapsed": true
   },
   "outputs": [],
   "source": [
    "import numpy as np\n",
    "import pandas as pd\n",
    "from tqdm.auto import tqdm\n",
    "\n",
    "from HW2.benchmark_proceeder import BenchmarkStorage\n",
    "from HW2.error_calculator import *\n",
    "from HW2.regression_generator import generate_regression\n",
    "from HW2.sgd import sgd, minibatch_gd, gd\n",
    "from HW2.visualization import visualize_regression_point, visualize_line, draw_levels\n",
    "from HW2.optimization import *"
   ]
  },
  {
   "cell_type": "code",
   "execution_count": 2,
   "outputs": [
    {
     "data": {
      "text/plain": "<Figure size 432x288 with 1 Axes>",
      "image/png": "[encoded data removed]"
     },
     "metadata": {
      "needs_background": "light"
     },
     "output_type": "display_data"
    }
   ],
   "source": [
    "f, points = generate_regression(point_count=500, scale=np.array([3, 0.25]))\n",
    "\n",
    "visualize_regression_point(f, points, scale=3)\n",
    "\n",
    "storage = BenchmarkStorage()"
   ],
   "metadata": {
    "collapsed": false,
    "pycharm": {
     "name": "#%%\n"
    }
   }
  },
  {
   "cell_type": "code",
   "execution_count": 3,
   "outputs": [
    {
     "data": {
      "text/plain": "Errors:   0%|          | 0/3 [00:00<?, ?it/s]",
      "application/vnd.jupyter.widget-view+json": {
       "version_major": 2,
       "version_minor": 0,
       "model_id": "9a4df378e1c545c0b83f3cb266506c98"
      }
     },
     "metadata": {},
     "output_type": "display_data"
    },
    {
     "data": {
      "text/plain": "Optimizations:   0%|          | 0/6 [00:00<?, ?it/s]",
      "application/vnd.jupyter.widget-view+json": {
       "version_major": 2,
       "version_minor": 0,
       "model_id": "5dd6f43b22e247b2a540211cf058602f"
      }
     },
     "metadata": {},
     "output_type": "display_data"
    },
    {
     "data": {
      "text/plain": "Batch sizes:   0%|          | 0/4 [00:00<?, ?it/s]",
      "application/vnd.jupyter.widget-view+json": {
       "version_major": 2,
       "version_minor": 0,
       "model_id": "f88161eb33c541a08467b2c56822dade"
      }
     },
     "metadata": {},
     "output_type": "display_data"
    },
    {
     "data": {
      "text/plain": "Batch sizes:   0%|          | 0/4 [00:00<?, ?it/s]",
      "application/vnd.jupyter.widget-view+json": {
       "version_major": 2,
       "version_minor": 0,
       "model_id": "9753cbe2fcaa4b91a5cd38d339958f29"
      }
     },
     "metadata": {},
     "output_type": "display_data"
    },
    {
     "data": {
      "text/plain": "Batch sizes:   0%|          | 0/4 [00:00<?, ?it/s]",
      "application/vnd.jupyter.widget-view+json": {
       "version_major": 2,
       "version_minor": 0,
       "model_id": "53a47037e8c64bd3b6fe99882a4fc8aa"
      }
     },
     "metadata": {},
     "output_type": "display_data"
    },
    {
     "data": {
      "text/plain": "Batch sizes:   0%|          | 0/4 [00:00<?, ?it/s]",
      "application/vnd.jupyter.widget-view+json": {
       "version_major": 2,
       "version_minor": 0,
       "model_id": "3c5c6c3af2b647cb876ea05d1fed0ddb"
      }
     },
     "metadata": {},
     "output_type": "display_data"
    },
    {
     "data": {
      "text/plain": "Batch sizes:   0%|          | 0/4 [00:00<?, ?it/s]",
      "application/vnd.jupyter.widget-view+json": {
       "version_major": 2,
       "version_minor": 0,
       "model_id": "5b88186d98bd4e9d99c96bcf36138075"
      }
     },
     "metadata": {},
     "output_type": "display_data"
    },
    {
     "data": {
      "text/plain": "Batch sizes:   0%|          | 0/4 [00:00<?, ?it/s]",
      "application/vnd.jupyter.widget-view+json": {
       "version_major": 2,
       "version_minor": 0,
       "model_id": "47af9f61a31942d4a3bc8ea8a48f159a"
      }
     },
     "metadata": {},
     "output_type": "display_data"
    },
    {
     "data": {
      "text/plain": "Optimizations:   0%|          | 0/6 [00:00<?, ?it/s]",
      "application/vnd.jupyter.widget-view+json": {
       "version_major": 2,
       "version_minor": 0,
       "model_id": "f2e99c1eb7264bd39adc47f1cf8591cc"
      }
     },
     "metadata": {},
     "output_type": "display_data"
    },
    {
     "data": {
      "text/plain": "Batch sizes:   0%|          | 0/4 [00:00<?, ?it/s]",
      "application/vnd.jupyter.widget-view+json": {
       "version_major": 2,
       "version_minor": 0,
       "model_id": "9e0f4f15abc3465fa64d7e3e88ca26b5"
      }
     },
     "metadata": {},
     "output_type": "display_data"
    },
    {
     "data": {
      "text/plain": "Batch sizes:   0%|          | 0/4 [00:00<?, ?it/s]",
      "application/vnd.jupyter.widget-view+json": {
       "version_major": 2,
       "version_minor": 0,
       "model_id": "09fc20e608b54d8cbb6768fb085115bc"
      }
     },
     "metadata": {},
     "output_type": "display_data"
    },
    {
     "data": {
      "text/plain": "Batch sizes:   0%|          | 0/4 [00:00<?, ?it/s]",
      "application/vnd.jupyter.widget-view+json": {
       "version_major": 2,
       "version_minor": 0,
       "model_id": "05a5114e4d114b5089f7165917c74e5b"
      }
     },
     "metadata": {},
     "output_type": "display_data"
    },
    {
     "data": {
      "text/plain": "Batch sizes:   0%|          | 0/4 [00:00<?, ?it/s]",
      "application/vnd.jupyter.widget-view+json": {
       "version_major": 2,
       "version_minor": 0,
       "model_id": "25b97b9836ba4c9896439998377ef818"
      }
     },
     "metadata": {},
     "output_type": "display_data"
    },
    {
     "data": {
      "text/plain": "Batch sizes:   0%|          | 0/4 [00:00<?, ?it/s]",
      "application/vnd.jupyter.widget-view+json": {
       "version_major": 2,
       "version_minor": 0,
       "model_id": "76595687ee7e4ed2b081dd5c52f4f8c8"
      }
     },
     "metadata": {},
     "output_type": "display_data"
    },
    {
     "data": {
      "text/plain": "Batch sizes:   0%|          | 0/4 [00:00<?, ?it/s]",
      "application/vnd.jupyter.widget-view+json": {
       "version_major": 2,
       "version_minor": 0,
       "model_id": "7407846e12a74e8bb1dbdaa14336acbb"
      }
     },
     "metadata": {},
     "output_type": "display_data"
    },
    {
     "data": {
      "text/plain": "Optimizations:   0%|          | 0/6 [00:00<?, ?it/s]",
      "application/vnd.jupyter.widget-view+json": {
       "version_major": 2,
       "version_minor": 0,
       "model_id": "10288eeb25a44e6da2d9f57d4fc13773"
      }
     },
     "metadata": {},
     "output_type": "display_data"
    },
    {
     "data": {
      "text/plain": "Batch sizes:   0%|          | 0/4 [00:00<?, ?it/s]",
      "application/vnd.jupyter.widget-view+json": {
       "version_major": 2,
       "version_minor": 0,
       "model_id": "d1e761adb4164e608d0377beb0e6c6df"
      }
     },
     "metadata": {},
     "output_type": "display_data"
    },
    {
     "data": {
      "text/plain": "Batch sizes:   0%|          | 0/4 [00:00<?, ?it/s]",
      "application/vnd.jupyter.widget-view+json": {
       "version_major": 2,
       "version_minor": 0,
       "model_id": "0e32bee5f4db4a68801b4c48674e9548"
      }
     },
     "metadata": {},
     "output_type": "display_data"
    },
    {
     "data": {
      "text/plain": "Batch sizes:   0%|          | 0/4 [00:00<?, ?it/s]",
      "application/vnd.jupyter.widget-view+json": {
       "version_major": 2,
       "version_minor": 0,
       "model_id": "ba9ac21ebc1f49fb8da7c384f2a58587"
      }
     },
     "metadata": {},
     "output_type": "display_data"
    },
    {
     "data": {
      "text/plain": "Batch sizes:   0%|          | 0/4 [00:00<?, ?it/s]",
      "application/vnd.jupyter.widget-view+json": {
       "version_major": 2,
       "version_minor": 0,
       "model_id": "17e16da090aa43fc9e4cd59592588212"
      }
     },
     "metadata": {},
     "output_type": "display_data"
    },
    {
     "data": {
      "text/plain": "Batch sizes:   0%|          | 0/4 [00:00<?, ?it/s]",
      "application/vnd.jupyter.widget-view+json": {
       "version_major": 2,
       "version_minor": 0,
       "model_id": "87f877a121c44e3cb6df5d63cdd121e0"
      }
     },
     "metadata": {},
     "output_type": "display_data"
    },
    {
     "data": {
      "text/plain": "Batch sizes:   0%|          | 0/4 [00:00<?, ?it/s]",
      "application/vnd.jupyter.widget-view+json": {
       "version_major": 2,
       "version_minor": 0,
       "model_id": "414ec83f3b5149e8aaf5e187b93694d9"
      }
     },
     "metadata": {},
     "output_type": "display_data"
    },
    {
     "data": {
      "text/plain": "                                               Config Mean time Mean mem  \\\n0   (1, 1, Default(no) optimization, Absolute erro...  0.008879     0.0B   \n1   (10, 1, Default(no) optimization, Absolute err...  0.023317     0.0B   \n2   (40, 1, Default(no) optimization, Absolute err...  0.089874     0.0B   \n3   (500, 1, Default(no) optimization, Absolute er...  1.138579     0.0B   \n4   (1, 1, Momentum optimization (beta=0.95), Abso...   0.01278     0.0B   \n..                                                ...       ...      ...   \n67  (500, 1, RMS prop optimization (gamma=0.5, eps...  1.635224     0.0B   \n68  (1, 1, Adam optimization (beta_1=0.9, beta_2=0...  0.032162     0.0B   \n69  (10, 1, Adam optimization (beta_1=0.9, beta_2=...  0.043982     0.0B   \n70  (40, 1, Adam optimization (beta_1=0.9, beta_2=...  0.137204     0.0B   \n71  (500, 1, Adam optimization (beta_1=0.9, beta_2...  1.574994     0.0B   \n\n   Mean SMAPE Mean RMSE Mean logcosh Mean gradient calls Mean iterations  \n0    0.261676   0.26883     0.038667                57.0            57.0  \n1    0.193794  0.185602     0.016997               500.0            50.0  \n2    0.191956  0.180373     0.016014              2000.0            50.0  \n3    0.190073  0.176917      0.01541             25000.0            50.0  \n4    0.217271  0.225906     0.026337               82.85           82.85  \n..        ...       ...          ...                 ...             ...  \n67   0.200948  0.214394     0.022507             25000.0            50.0  \n68   0.232048  0.255431     0.039986              122.75          122.75  \n69   0.195963  0.192892     0.018448               526.5           52.65  \n70   0.194499  0.186729     0.017187              2046.0           51.15  \n71   0.191726  0.178224     0.015636             25000.0            50.0  \n\n[72 rows x 8 columns]",
      "text/html": "<div>\n<style scoped>\n    .dataframe tbody tr th:only-of-type {\n        vertical-align: middle;\n    }\n\n    .dataframe tbody tr th {\n        vertical-align: top;\n    }\n\n    .dataframe thead th {\n        text-align: right;\n    }\n</style>\n<table border=\"1\" class=\"dataframe\">\n  <thead>\n    <tr style=\"text-align: right;\">\n      <th></th>\n      <th>Config</th>\n      <th>Mean time</th>\n      <th>Mean mem</th>\n      <th>Mean SMAPE</th>\n      <th>Mean RMSE</th>\n      <th>Mean logcosh</th>\n      <th>Mean gradient calls</th>\n      <th>Mean iterations</th>\n    </tr>\n  </thead>\n  <tbody>\n    <tr>\n      <th>0</th>\n      <td>(1, 1, Default(no) optimization, Absolute erro...</td>\n      <td>0.008879</td>\n      <td>0.0B</td>\n      <td>0.261676</td>\n      <td>0.26883</td>\n      <td>0.038667</td>\n      <td>57.0</td>\n      <td>57.0</td>\n    </tr>\n    <tr>\n      <th>1</th>\n      <td>(10, 1, Default(no) optimization, Absolute err...</td>\n      <td>0.023317</td>\n      <td>0.0B</td>\n      <td>0.193794</td>\n      <td>0.185602</td>\n      <td>0.016997</td>\n      <td>500.0</td>\n      <td>50.0</td>\n    </tr>\n    <tr>\n      <th>2</th>\n      <td>(40, 1, Default(no) optimization, Absolute err...</td>\n      <td>0.089874</td>\n      <td>0.0B</td>\n      <td>0.191956</td>\n      <td>0.180373</td>\n      <td>0.016014</td>\n      <td>2000.0</td>\n      <td>50.0</td>\n    </tr>\n    <tr>\n      <th>3</th>\n      <td>(500, 1, Default(no) optimization, Absolute er...</td>\n      <td>1.138579</td>\n      <td>0.0B</td>\n      <td>0.190073</td>\n      <td>0.176917</td>\n      <td>0.01541</td>\n      <td>25000.0</td>\n      <td>50.0</td>\n    </tr>\n    <tr>\n      <th>4</th>\n      <td>(1, 1, Momentum optimization (beta=0.95), Abso...</td>\n      <td>0.01278</td>\n      <td>0.0B</td>\n      <td>0.217271</td>\n      <td>0.225906</td>\n      <td>0.026337</td>\n      <td>82.85</td>\n      <td>82.85</td>\n    </tr>\n    <tr>\n      <th>...</th>\n      <td>...</td>\n      <td>...</td>\n      <td>...</td>\n      <td>...</td>\n      <td>...</td>\n      <td>...</td>\n      <td>...</td>\n      <td>...</td>\n    </tr>\n    <tr>\n      <th>67</th>\n      <td>(500, 1, RMS prop optimization (gamma=0.5, eps...</td>\n      <td>1.635224</td>\n      <td>0.0B</td>\n      <td>0.200948</td>\n      <td>0.214394</td>\n      <td>0.022507</td>\n      <td>25000.0</td>\n      <td>50.0</td>\n    </tr>\n    <tr>\n      <th>68</th>\n      <td>(1, 1, Adam optimization (beta_1=0.9, beta_2=0...</td>\n      <td>0.032162</td>\n      <td>0.0B</td>\n      <td>0.232048</td>\n      <td>0.255431</td>\n      <td>0.039986</td>\n      <td>122.75</td>\n      <td>122.75</td>\n    </tr>\n    <tr>\n      <th>69</th>\n      <td>(10, 1, Adam optimization (beta_1=0.9, beta_2=...</td>\n      <td>0.043982</td>\n      <td>0.0B</td>\n      <td>0.195963</td>\n      <td>0.192892</td>\n      <td>0.018448</td>\n      <td>526.5</td>\n      <td>52.65</td>\n    </tr>\n    <tr>\n      <th>70</th>\n      <td>(40, 1, Adam optimization (beta_1=0.9, beta_2=...</td>\n      <td>0.137204</td>\n      <td>0.0B</td>\n      <td>0.194499</td>\n      <td>0.186729</td>\n      <td>0.017187</td>\n      <td>2046.0</td>\n      <td>51.15</td>\n    </tr>\n    <tr>\n      <th>71</th>\n      <td>(500, 1, Adam optimization (beta_1=0.9, beta_2...</td>\n      <td>1.574994</td>\n      <td>0.0B</td>\n      <td>0.191726</td>\n      <td>0.178224</td>\n      <td>0.015636</td>\n      <td>25000.0</td>\n      <td>50.0</td>\n    </tr>\n  </tbody>\n</table>\n<p>72 rows × 8 columns</p>\n</div>"
     },
     "execution_count": 3,
     "metadata": {},
     "output_type": "execute_result"
    }
   ],
   "source": [
    "errors = [AbsErrorCalculator(), SquaredErrorCalculator(), BoxErrorCalculator()]\n",
    "optimizators = [DefaultOptimization(), MomentumOptimization(0.95), NesterovOptimization(0.95), AdaGradOptimization(),\n",
    "                RMSPropOptimization(0.5), AdamOptimization()]\n",
    "\n",
    "batch_sizes = [1, 10, 40, len(points)]\n",
    "\n",
    "result = np.array([])\n",
    "for error in tqdm(errors, \"Errors\", position=0):\n",
    "    for optimizator in tqdm(optimizators, \"Optimizations\", position=1):\n",
    "        for batch_size in tqdm(batch_sizes, \"Batch sizes\", position=2):\n",
    "\n",
    "            index = storage.add_benchmark_config(batch_size=str(batch_size), optimiser=optimizator, error=error)\n",
    "            for _ in range(20 if batch_size != len(points) else 1):\n",
    "                ab, meta = minibatch_gd(points, batch_size=batch_size, error=error,\n",
    "                                        optimization=optimizator)\n",
    "                storage.add_benchmark_result(index, meta)\n",
    "            result = np.append(result, storage.get_benchmark_results_arrayed(index))\n",
    "\n",
    "\n",
    "result = result.reshape((-1, 8))\n",
    "df = pd.DataFrame(result, columns=[\n",
    "    'Config',\n",
    "    'Mean time',\n",
    "    'Mean mem',\n",
    "    'Mean SMAPE',\n",
    "    'Mean RMSE',\n",
    "    'Mean logcosh',\n",
    "    'Mean gradient calls',\n",
    "    'Mean iterations'\n",
    "])\n",
    "df.to_csv(\"data/2.4.csv\", sep='\\t')\n",
    "df"
   ],
   "metadata": {
    "collapsed": false,
    "pycharm": {
     "name": "#%%\n"
    }
   }
  }
 ],
 "metadata": {
  "kernelspec": {
   "display_name": "Python 3",
   "language": "python",
   "name": "python3"
  },
  "language_info": {
   "codemirror_mode": {
    "name": "ipython",
    "version": 2
   },
   "file_extension": ".py",
   "mimetype": "text/x-python",
   "name": "python",
   "nbconvert_exporter": "python",
   "pygments_lexer": "ipython2",
   "version": "2.7.6"
  }
 },
 "nbformat": 4,
 "nbformat_minor": 0
}