{
 "cells": [
  {
   "cell_type": "code",
   "execution_count": 1111,
   "metadata": {
    "collapsed": true
   },
   "outputs": [],
   "source": [
    "import random\n",
    "import numpy as np\n",
    "import matplotlib.pyplot as plt"
   ]
  },
  {
   "cell_type": "code",
   "execution_count": 1112,
   "outputs": [],
   "source": [
    "dim = 1\n",
    "\n",
    "def f(coord):\n",
    "    if coord >= 35:\n",
    "        return coord - np.sin(coord) - 69\n",
    "    else:\n",
    "        return -coord"
   ],
   "metadata": {
    "collapsed": false,
    "pycharm": {
     "name": "#%%\n"
    }
   }
  },
  {
   "cell_type": "code",
   "execution_count": 1113,
   "outputs": [
    {
     "data": {
      "text/plain": "<Figure size 432x288 with 1 Axes>",
      "image/png": "[encoded data removed]"
     },
     "metadata": {
      "needs_background": "light"
     },
     "output_type": "display_data"
    }
   ],
   "source": [
    "xs = np.linspace(-100, 100, 1000)\n",
    "ys = list(map(f, xs))\n",
    "\n",
    "plt.plot(xs, ys)\n",
    "plt.show()"
   ],
   "metadata": {
    "collapsed": false,
    "pycharm": {
     "name": "#%%\n"
    }
   }
  },
  {
   "cell_type": "code",
   "execution_count": 1114,
   "outputs": [],
   "source": [
    "def gradient(coord, h=1e-5):\n",
    "    grad_list = np.array([], dtype=np.float64)\n",
    "    for index, x in enumerate(coord):\n",
    "        f_left = coord.copy()\n",
    "        f_left[index] = f(x - h)\n",
    "\n",
    "        f_right = coord.copy()\n",
    "        f_right[index] = f(x + h)\n",
    "\n",
    "        grad_2d = (f_right - f_left) / (2 * h)\n",
    "        grad_list = np.concatenate((grad_list, grad_2d))\n",
    "\n",
    "    return np.array(grad_list, dtype=np.float64)"
   ],
   "metadata": {
    "collapsed": false,
    "pycharm": {
     "name": "#%%\n"
    }
   }
  },
  {
   "cell_type": "code",
   "execution_count": 1115,
   "outputs": [],
   "source": [
    "def gradient_descent(lr=0.1, iterations=1000, scale=100, check_batch=50, eps=1e-5):\n",
    "    meta = {\n",
    "        \"gradient_call_count\": 0,\n",
    "        \"function_call_count\": 0\n",
    "    }\n",
    "\n",
    "    points = np.array([], dtype=np.float64).reshape(0, 2)\n",
    "\n",
    "    coord = np.random.rand(dim) * random.randint(-scale, scale)\n",
    "\n",
    "    for i in range(iterations):\n",
    "        points = np.append(\n",
    "            points,\n",
    "            np.array([coord, f(coord)], dtype=np.float64).reshape(1, 2),\n",
    "            axis=0\n",
    "        )\n",
    "\n",
    "        meta[\"function_call_count\"] += 1\n",
    "\n",
    "        avg_changes = np.average(np.abs(np.average(points[-check_batch:-1, 1]) - points[-check_batch:-1, 1]))\n",
    "        if points.shape[0] > check_batch and avg_changes < eps:\n",
    "            break\n",
    "\n",
    "        coord = coord - lr * gradient(coord)\n",
    "\n",
    "        meta[\"gradient_call_count\"] += 1\n",
    "\n",
    "    plt.plot(points[:, 0], points[:, 1], 'r.')\n",
    "    plt.plot(xs, ys)\n",
    "    plt.show()\n",
    "\n",
    "    return (coord, f(coord)), meta"
   ],
   "metadata": {
    "collapsed": false,
    "pycharm": {
     "name": "#%%\n"
    }
   }
  },
  {
   "cell_type": "code",
   "execution_count": 1116,
   "outputs": [
    {
     "name": "stderr",
     "output_type": "stream",
     "text": [
      "/home/easyhacks/Документы/git/Optimization-Methods-IFMO/venv/lib/python3.8/site-packages/numpy/lib/function_base.py:495: RuntimeWarning: Mean of empty slice.\n",
      "  avg = a.mean(axis)\n",
      "/home/easyhacks/Документы/git/Optimization-Methods-IFMO/venv/lib/python3.8/site-packages/numpy/core/_methods.py:189: RuntimeWarning: invalid value encountered in double_scalars\n",
      "  ret = ret.dtype.type(ret / rcount)\n"
     ]
    },
    {
     "data": {
      "text/plain": "<Figure size 432x288 with 1 Axes>",
      "image/png": "[encoded data removed]"
     },
     "metadata": {
      "needs_background": "light"
     },
     "output_type": "display_data"
    },
    {
     "name": "stdout",
     "output_type": "stream",
     "text": [
      "[34.9373544] [-34.9373544]\n",
      "{'gradient_call_count': 1000, 'function_call_count': 1000}\n"
     ]
    }
   ],
   "source": [
    "(x, y), meta = gradient_descent()\n",
    "print(x, y)\n",
    "print(meta)"
   ],
   "metadata": {
    "collapsed": false,
    "pycharm": {
     "name": "#%%\n"
    }
   }
  }
 ],
 "metadata": {
  "kernelspec": {
   "display_name": "Python 3",
   "language": "python",
   "name": "python3"
  },
  "language_info": {
   "codemirror_mode": {
    "name": "ipython",
    "version": 2
   },
   "file_extension": ".py",
   "mimetype": "text/x-python",
   "name": "python",
   "nbconvert_exporter": "python",
   "pygments_lexer": "ipython2",
   "version": "2.7.6"
  }
 },
 "nbformat": 4,
 "nbformat_minor": 0
}