{
 "cells": [
  {
   "cell_type": "code",
   "execution_count": 51,
   "outputs": [],
   "source": [
    "import warnings\n",
    "\n",
    "from grad import *\n",
    "import numpy as np\n",
    "import matplotlib.pyplot as plt"
   ],
   "metadata": {
    "collapsed": false,
    "pycharm": {
     "name": "#%%\n"
    }
   }
  },
  {
   "cell_type": "code",
   "execution_count": 52,
   "outputs": [],
   "source": [
    "dim = 1\n",
    "\n",
    "def f(coord):\n",
    "    if coord >= 35:\n",
    "        return coord - np.sin(coord) - 69\n",
    "    else:\n",
    "        return -coord"
   ],
   "metadata": {
    "collapsed": false,
    "pycharm": {
     "name": "#%%\n"
    }
   }
  },
  {
   "cell_type": "code",
   "execution_count": 53,
   "outputs": [
    {
     "data": {
      "text/plain": "<Figure size 432x288 with 1 Axes>",
      "image/png": "[encoded data removed]"
     },
     "metadata": {
      "needs_background": "light"
     },
     "output_type": "display_data"
    }
   ],
   "source": [
    "xs = np.linspace(-100, 100, 1000)\n",
    "ys = list(map(f, xs))\n",
    "\n",
    "plt.plot(xs, ys)\n",
    "plt.show()"
   ],
   "metadata": {
    "collapsed": false,
    "pycharm": {
     "name": "#%%\n"
    }
   }
  },
  {
   "cell_type": "code",
   "execution_count": 54,
   "outputs": [
    {
     "name": "stdout",
     "output_type": "stream",
     "text": [
      "[35.04642206] [-33.48392038]\n",
      "{'gradient_call_count': 1000, 'function_call_count': 1000, 'points': array([[  9.68778348,  -9.68778348],\n",
      "       [  9.78778348,  -9.78778348],\n",
      "       [  9.88778348,  -9.88778348],\n",
      "       ...,\n",
      "       [ 35.03522716, -33.5050279 ],\n",
      "       [ 34.84642206, -34.84642206],\n",
      "       [ 34.94642206, -34.94642206]])}\n"
     ]
    }
   ],
   "source": [
    "with warnings.catch_warnings():\n",
    "    warnings.simplefilter(\"ignore\", category=RuntimeWarning)\n",
    "    (x, y), meta = gradient_descent(f, 1)\n",
    "print(x, y)\n",
    "print(meta)"
   ],
   "metadata": {
    "collapsed": false,
    "pycharm": {
     "name": "#%%\n"
    }
   }
  }
 ],
 "metadata": {
  "kernelspec": {
   "display_name": "Python 3",
   "language": "python",
   "name": "python3"
  },
  "language_info": {
   "codemirror_mode": {
    "name": "ipython",
    "version": 2
   },
   "file_extension": ".py",
   "mimetype": "text/x-python",
   "name": "python",
   "nbconvert_exporter": "python",
   "pygments_lexer": "ipython2",
   "version": "2.7.6"
  }
 },
 "nbformat": 4,
 "nbformat_minor": 0
}