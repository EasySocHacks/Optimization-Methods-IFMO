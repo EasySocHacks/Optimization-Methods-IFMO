{
 "cells": [
  {
   "cell_type": "code",
   "execution_count": 415,
   "metadata": {
    "collapsed": true
   },
   "outputs": [],
   "source": [
    "import random\n",
    "import numpy as np\n",
    "import matplotlib.pyplot as plt"
   ]
  },
  {
   "cell_type": "code",
   "execution_count": 416,
   "outputs": [],
   "source": [
    "dim = 1\n",
    "\n",
    "def f(coord):\n",
    "    if coord >= -10:\n",
    "        return coord - np.sin(coord) - 69\n",
    "    else:\n",
    "        return -coord"
   ],
   "metadata": {
    "collapsed": false,
    "pycharm": {
     "name": "#%%\n"
    }
   }
  },
  {
   "cell_type": "code",
   "execution_count": 417,
   "outputs": [
    {
     "data": {
      "text/plain": "<Figure size 432x288 with 1 Axes>",
      "image/png": "[encoded data removed]"
     },
     "metadata": {
      "needs_background": "light"
     },
     "output_type": "display_data"
    }
   ],
   "source": [
    "xs = np.linspace(-100, 100, 1000)\n",
    "ys = list(map(f, xs))\n",
    "\n",
    "plt.plot(xs, ys)\n",
    "plt.show()"
   ],
   "metadata": {
    "collapsed": false,
    "pycharm": {
     "name": "#%%\n"
    }
   }
  },
  {
   "cell_type": "code",
   "execution_count": 418,
   "outputs": [],
   "source": [
    "h = 1e-5\n",
    "\n",
    "def gradient(coord):\n",
    "    grad_list = np.array([], dtype=np.float64)\n",
    "    for index, x in enumerate(coord):\n",
    "        f_left = coord.copy()\n",
    "        f_left[index] = f(x - h)\n",
    "\n",
    "        f_right = coord.copy()\n",
    "        f_right[index] = f(x + h)\n",
    "\n",
    "        grad_2d = (f_right - f_left) / (2 * h)\n",
    "        grad_list = np.concatenate((grad_list, grad_2d))\n",
    "\n",
    "    return np.array(grad_list, dtype=np.float64)"
   ],
   "metadata": {
    "collapsed": false,
    "pycharm": {
     "name": "#%%\n"
    }
   }
  },
  {
   "cell_type": "code",
   "execution_count": 419,
   "outputs": [],
   "source": [
    "lr = 0.9\n",
    "iterations = 1000\n",
    "\n",
    "points = np.zeros((iterations, 2))\n",
    "\n",
    "def gradient_descent():\n",
    "    coord = np.random.rand(dim) * random.randint(-100, 100)\n",
    "\n",
    "    for i in range(iterations):\n",
    "        points[i] = (coord, f(coord))\n",
    "        coord = coord - lr * gradient(coord)\n",
    "\n",
    "    plt.plot(points[:, 0], points[:, 1], 'r.')\n",
    "    plt.plot(xs, ys)\n",
    "    plt.show()\n",
    "\n",
    "    return coord"
   ],
   "metadata": {
    "collapsed": false,
    "pycharm": {
     "name": "#%%\n"
    }
   }
  },
  {
   "cell_type": "code",
   "execution_count": 420,
   "outputs": [
    {
     "name": "stderr",
     "output_type": "stream",
     "text": [
      "/tmp/ipykernel_11042/671157361.py:10: DeprecationWarning: setting an array element with a sequence. This was supported in some cases where the elements are arrays with a single element. For example `np.array([1, np.array([2])], dtype=int)`. In the future this will raise the same ValueError as `np.array([1, [2]], dtype=int)`.\n",
      "  points[i] = (coord, f(coord))\n"
     ]
    },
    {
     "data": {
      "text/plain": "<Figure size 432x288 with 1 Axes>",
      "image/png": "[encoded data removed]"
     },
     "metadata": {
      "needs_background": "light"
     },
     "output_type": "display_data"
    },
    {
     "name": "stdout",
     "output_type": "stream",
     "text": [
      "[-11.2312702] [11.2312702]\n"
     ]
    }
   ],
   "source": [
    "coord = gradient_descent()\n",
    "print(coord, f(coord))"
   ],
   "metadata": {
    "collapsed": false,
    "pycharm": {
     "name": "#%%\n"
    }
   }
  }
 ],
 "metadata": {
  "kernelspec": {
   "display_name": "Python 3",
   "language": "python",
   "name": "python3"
  },
  "language_info": {
   "codemirror_mode": {
    "name": "ipython",
    "version": 2
   },
   "file_extension": ".py",
   "mimetype": "text/x-python",
   "name": "python",
   "nbconvert_exporter": "python",
   "pygments_lexer": "ipython2",
   "version": "2.7.6"
  }
 },
 "nbformat": 4,
 "nbformat_minor": 0
}