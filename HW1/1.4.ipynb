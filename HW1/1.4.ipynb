{
 "cells": [
  {
   "cell_type": "code",
   "execution_count": 1,
   "metadata": {
    "collapsed": true
   },
   "outputs": [],
   "source": [
    "import warnings\n",
    "\n",
    "import numpy as np\n",
    "\n",
    "from HW1.coord_relaxer import LinearCoordRelaxer\n",
    "from HW1.gradient_descent import gradient_descent\n",
    "from HW1.step_length_computer import WolfeStepLengthComputer\n",
    "from HW1.visualize import draw_2D, draw_3D"
   ]
  },
  {
   "cell_type": "code",
   "execution_count": 2,
   "outputs": [
    {
     "data": {
      "text/plain": "<Figure size 432x288 with 1 Axes>",
      "image/png": "[encoded data removed]"
     },
     "metadata": {
      "needs_background": "light"
     },
     "output_type": "display_data"
    }
   ],
   "source": [
    "def f(coord):\n",
    "    if coord >= 0:\n",
    "        return coord - np.sin(coord)\n",
    "    else:\n",
    "        return -coord\n",
    "\n",
    "\n",
    "draw_2D(f)"
   ],
   "metadata": {
    "collapsed": false,
    "pycharm": {
     "name": "#%%\n"
    }
   }
  },
  {
   "cell_type": "code",
   "execution_count": 4,
   "outputs": [
    {
     "name": "stdout",
     "output_type": "stream",
     "text": [
      "t=0.5\n",
      "t=0.0625\n"
     ]
    },
    {
     "ename": "KeyboardInterrupt",
     "evalue": "",
     "output_type": "error",
     "traceback": [
      "\u001B[1;31m---------------------------------------------------------------------------\u001B[0m",
      "\u001B[1;31mKeyboardInterrupt\u001B[0m                         Traceback (most recent call last)",
      "\u001B[1;32m<ipython-input-4-88742d1970c1>\u001B[0m in \u001B[0;36m<module>\u001B[1;34m\u001B[0m\n\u001B[0;32m      1\u001B[0m \u001B[1;32mwith\u001B[0m \u001B[0mwarnings\u001B[0m\u001B[1;33m.\u001B[0m\u001B[0mcatch_warnings\u001B[0m\u001B[1;33m(\u001B[0m\u001B[1;33m)\u001B[0m\u001B[1;33m:\u001B[0m\u001B[1;33m\u001B[0m\u001B[1;33m\u001B[0m\u001B[0m\n\u001B[0;32m      2\u001B[0m     \u001B[0mwarnings\u001B[0m\u001B[1;33m.\u001B[0m\u001B[0msimplefilter\u001B[0m\u001B[1;33m(\u001B[0m\u001B[1;34m\"ignore\"\u001B[0m\u001B[1;33m,\u001B[0m \u001B[0mcategory\u001B[0m\u001B[1;33m=\u001B[0m\u001B[0mRuntimeWarning\u001B[0m\u001B[1;33m)\u001B[0m\u001B[1;33m\u001B[0m\u001B[1;33m\u001B[0m\u001B[0m\n\u001B[1;32m----> 3\u001B[1;33m     (x, y), meta = gradient_descent(f, 1, coord_relaxer=LinearCoordRelaxer(f, alpha=5, eps=1e-5,\n\u001B[0m\u001B[0;32m      4\u001B[0m                                                                            step_length_computer=WolfeStepLengthComputer(\n\u001B[0;32m      5\u001B[0m                                                                                0.3, 0.8, f)))\n",
      "\u001B[1;32m~\\PycharmProjects\\Optimization-Methods-IFMO\\HW1\\gradient_descent.py\u001B[0m in \u001B[0;36mgradient_descent\u001B[1;34m(f, dim, coord, lr, iterations, check_batch, eps, scheduler, coord_relaxer)\u001B[0m\n\u001B[0;32m     41\u001B[0m                 \u001B[1;32mbreak\u001B[0m\u001B[1;33m\u001B[0m\u001B[1;33m\u001B[0m\u001B[0m\n\u001B[0;32m     42\u001B[0m \u001B[1;33m\u001B[0m\u001B[0m\n\u001B[1;32m---> 43\u001B[1;33m         \u001B[1;33m(\u001B[0m\u001B[0mcoord\u001B[0m\u001B[1;33m,\u001B[0m \u001B[0m_\u001B[0m\u001B[1;33m)\u001B[0m\u001B[1;33m,\u001B[0m \u001B[0mrelax_meta\u001B[0m \u001B[1;33m=\u001B[0m \u001B[0mcoord_relaxer\u001B[0m\u001B[1;33m.\u001B[0m\u001B[0mrelax\u001B[0m\u001B[1;33m(\u001B[0m\u001B[0mcoord\u001B[0m\u001B[1;33m,\u001B[0m \u001B[0mlr\u001B[0m\u001B[1;33m,\u001B[0m \u001B[0mgradient\u001B[0m\u001B[1;33m(\u001B[0m\u001B[0mf\u001B[0m\u001B[1;33m,\u001B[0m \u001B[0mcoord\u001B[0m\u001B[1;33m)\u001B[0m\u001B[1;33m)\u001B[0m\u001B[1;33m\u001B[0m\u001B[1;33m\u001B[0m\u001B[0m\n\u001B[0m\u001B[0;32m     44\u001B[0m         \u001B[0mmeta\u001B[0m\u001B[1;33m[\u001B[0m\u001B[1;34m\"function_call_count\"\u001B[0m\u001B[1;33m]\u001B[0m \u001B[1;33m+=\u001B[0m \u001B[0mrelax_meta\u001B[0m\u001B[1;33m[\u001B[0m\u001B[1;34m\"function_call_count\"\u001B[0m\u001B[1;33m]\u001B[0m\u001B[1;33m\u001B[0m\u001B[1;33m\u001B[0m\u001B[0m\n\u001B[0;32m     45\u001B[0m \u001B[1;33m\u001B[0m\u001B[0m\n",
      "\u001B[1;32m~\\PycharmProjects\\Optimization-Methods-IFMO\\HW1\\coord_relaxer.py\u001B[0m in \u001B[0;36mrelax\u001B[1;34m(self, coord, lr, gradient)\u001B[0m\n\u001B[0;32m     79\u001B[0m     \u001B[1;32mdef\u001B[0m \u001B[0mrelax\u001B[0m\u001B[1;33m(\u001B[0m\u001B[0mself\u001B[0m\u001B[1;33m,\u001B[0m \u001B[0mcoord\u001B[0m\u001B[1;33m,\u001B[0m \u001B[0mlr\u001B[0m\u001B[1;33m,\u001B[0m \u001B[0mgradient\u001B[0m\u001B[1;33m)\u001B[0m\u001B[1;33m:\u001B[0m\u001B[1;33m\u001B[0m\u001B[1;33m\u001B[0m\u001B[0m\n\u001B[0;32m     80\u001B[0m         return self.golden_ratio_method(coord,\n\u001B[1;32m---> 81\u001B[1;33m                                         coord - self.alpha * lr * gradient * self.step_length_computer.computeLength(\n\u001B[0m\u001B[0;32m     82\u001B[0m                                             coord, -gradient))\n",
      "\u001B[1;32m~\\PycharmProjects\\Optimization-Methods-IFMO\\HW1\\step_length_computer.py\u001B[0m in \u001B[0;36mcomputeLength\u001B[1;34m(self, coord, direction)\u001B[0m\n\u001B[0;32m     33\u001B[0m                 \u001B[0mbeta\u001B[0m \u001B[1;33m=\u001B[0m \u001B[0mt\u001B[0m\u001B[1;33m\u001B[0m\u001B[1;33m\u001B[0m\u001B[0m\n\u001B[0;32m     34\u001B[0m                 \u001B[0mt\u001B[0m \u001B[1;33m=\u001B[0m \u001B[1;36m0.5\u001B[0m \u001B[1;33m*\u001B[0m \u001B[1;33m(\u001B[0m\u001B[0mbeta\u001B[0m \u001B[1;33m+\u001B[0m \u001B[0malpha\u001B[0m\u001B[1;33m)\u001B[0m\u001B[1;33m\u001B[0m\u001B[1;33m\u001B[0m\u001B[0m\n\u001B[1;32m---> 35\u001B[1;33m             \u001B[1;32melif\u001B[0m \u001B[0mnp\u001B[0m\u001B[1;33m.\u001B[0m\u001B[0mdot\u001B[0m\u001B[1;33m(\u001B[0m\u001B[0mgradient\u001B[0m\u001B[1;33m(\u001B[0m\u001B[0mself\u001B[0m\u001B[1;33m.\u001B[0m\u001B[0mf\u001B[0m\u001B[1;33m,\u001B[0m \u001B[0mcoord\u001B[0m \u001B[1;33m+\u001B[0m \u001B[0mt\u001B[0m \u001B[1;33m*\u001B[0m \u001B[0mdirection\u001B[0m\u001B[1;33m)\u001B[0m\u001B[1;33m,\u001B[0m \u001B[0mdirection\u001B[0m\u001B[1;33m)\u001B[0m \u001B[1;33m<\u001B[0m \u001B[0mself\u001B[0m\u001B[1;33m.\u001B[0m\u001B[0mc2\u001B[0m \u001B[1;33m*\u001B[0m \u001B[0mcoord_dot\u001B[0m\u001B[1;33m:\u001B[0m\u001B[1;33m\u001B[0m\u001B[1;33m\u001B[0m\u001B[0m\n\u001B[0m\u001B[0;32m     36\u001B[0m                 \u001B[0malpha\u001B[0m \u001B[1;33m=\u001B[0m \u001B[0mt\u001B[0m\u001B[1;33m\u001B[0m\u001B[1;33m\u001B[0m\u001B[0m\n\u001B[0;32m     37\u001B[0m                 \u001B[0mt\u001B[0m \u001B[1;33m=\u001B[0m \u001B[1;36m2\u001B[0m \u001B[1;33m*\u001B[0m \u001B[0malpha\u001B[0m \u001B[1;32mif\u001B[0m \u001B[0mbeta\u001B[0m \u001B[1;33m==\u001B[0m \u001B[0mfloat\u001B[0m\u001B[1;33m(\u001B[0m\u001B[1;34m\"inf\"\u001B[0m\u001B[1;33m)\u001B[0m \u001B[1;32melse\u001B[0m \u001B[1;36m0.5\u001B[0m \u001B[1;33m*\u001B[0m \u001B[1;33m(\u001B[0m\u001B[0mbeta\u001B[0m \u001B[1;33m+\u001B[0m \u001B[0malpha\u001B[0m\u001B[1;33m)\u001B[0m\u001B[1;33m\u001B[0m\u001B[1;33m\u001B[0m\u001B[0m\n",
      "\u001B[1;32m<__array_function__ internals>\u001B[0m in \u001B[0;36mdot\u001B[1;34m(*args, **kwargs)\u001B[0m\n",
      "\u001B[1;31mKeyboardInterrupt\u001B[0m: "
     ]
    }
   ],
   "source": [
    "with warnings.catch_warnings():\n",
    "    warnings.simplefilter(\"ignore\", category=RuntimeWarning)\n",
    "    (x, y), meta = gradient_descent(f, 1, coord_relaxer=LinearCoordRelaxer(f, alpha=5, eps=1e-5,\n",
    "                                                                           step_length_computer=WolfeStepLengthComputer(\n",
    "                                                                               0.3, 0.8, f)))\n",
    "    print(x, y)\n",
    "    print(meta)\n",
    "\n",
    "    draw_2D(f, meta[\"points\"])"
   ],
   "metadata": {
    "collapsed": false,
    "pycharm": {
     "name": "#%%\n"
    }
   }
  },
  {
   "cell_type": "code",
   "execution_count": null,
   "outputs": [],
   "source": [
    "def f(coord):\n",
    "    return np.sin(coord[0] / 20) * np.cos(np.e + coord[1] / 20)\n",
    "\n",
    "\n",
    "draw_3D(f)"
   ],
   "metadata": {
    "collapsed": false,
    "pycharm": {
     "name": "#%%\n"
    }
   }
  },
  {
   "cell_type": "code",
   "execution_count": null,
   "outputs": [],
   "source": [
    "with warnings.catch_warnings():\n",
    "    warnings.simplefilter(\"ignore\", category=RuntimeWarning)\n",
    "    (xs, y), meta = gradient_descent(f, 2, lr=0.9, coord_relaxer=LinearCoordRelaxer(f, alpha=5, eps=1e-3,\n",
    "                                                                                    step_length_computer=WolfeStepLengthComputer(\n",
    "                                                                                        0.3, 0.8, f)))\n",
    "    print(xs, y)\n",
    "    print(meta)\n",
    "\n",
    "    draw_3D(f, meta[\"points\"]   )"
   ],
   "metadata": {
    "collapsed": false,
    "pycharm": {
     "name": "#%%\n"
    }
   }
  }
 ],
 "metadata": {
  "kernelspec": {
   "display_name": "Python 3",
   "language": "python",
   "name": "python3"
  },
  "language_info": {
   "codemirror_mode": {
    "name": "ipython",
    "version": 2
   },
   "file_extension": ".py",
   "mimetype": "text/x-python",
   "name": "python",
   "nbconvert_exporter": "python",
   "pygments_lexer": "ipython2",
   "version": "2.7.6"
  }
 },
 "nbformat": 4,
 "nbformat_minor": 0
}