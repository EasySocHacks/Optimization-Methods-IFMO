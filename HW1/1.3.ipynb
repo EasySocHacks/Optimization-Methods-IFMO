{
 "cells": [
  {
   "cell_type": "code",
   "execution_count": 53,
   "outputs": [],
   "source": [
    "import warnings\n",
    "\n",
    "import matplotlib.pyplot as plt\n",
    "\n",
    "from HW1.coord_relaxer import LinearCoordRelaxer\n",
    "from grad import *"
   ],
   "metadata": {
    "collapsed": false,
    "pycharm": {
     "name": "#%%\n"
    }
   }
  },
  {
   "cell_type": "markdown",
   "source": [
    "Метод золотого сечения.\n",
    "---\n",
    "\n",
    "0. Берем отрезок [a, b]\n",
    "1. Ставим на нем две точки `x1` и `x2` в пропорции золотого сечения.\n",
    "    $x_1 = b - {b - a \\over \\phi}$\n",
    "    $x_2 = a + {b - a \\over \\phi}$\n",
    "2. Считаем значения в этих точках\n",
    "    $y_1 = f(x_1)$\n",
    "    $y_2 = f(x_2)$\n",
    "3. Проверяем, если $|y_1 - y_2| < \\varepsilon$, значит мы достаточно близко к ответу (с точностью $\\varepsilon$). Здачит, завершаем программу.\n",
    "4. Сдвигаем границы\n",
    "    Если $y_1 \\leq y_2 \\Rightarrow b = x_2, x_2 = x_1, x_1 = b - {b - a \\over \\phi}, y_2 = y_1, y_1 = f(x_1)$\n",
    "    Если $y_2 \\leq y_1 \\Rightarrow a = x_1, x_1 = x_2, x_2 = a + {b - a \\over \\phi}, y_1 = y_2, y_2 = f(x_2)$\n",
    "5. Возвращаемся к пункту `3`"
   ],
   "metadata": {
    "collapsed": false
   }
  },
  {
   "cell_type": "markdown",
   "source": [
    "# Example 1\n",
    "\n",
    "> $dim = 1$.\n",
    ">\n",
    "> $f(x) = x - sin(x)$, where $x \\geq 0; -x$, otherwise"
   ],
   "metadata": {
    "collapsed": false
   }
  },
  {
   "cell_type": "code",
   "execution_count": 54,
   "outputs": [],
   "source": [
    "def f(coord):\n",
    "    if coord >= 0:\n",
    "        return coord - np.sin(coord)\n",
    "    else:\n",
    "        return -coord"
   ],
   "metadata": {
    "collapsed": false,
    "pycharm": {
     "name": "#%%\n"
    }
   }
  },
  {
   "cell_type": "code",
   "execution_count": 55,
   "outputs": [
    {
     "data": {
      "text/plain": "<Figure size 432x288 with 1 Axes>",
      "image/png": "[encoded data removed]"
     },
     "metadata": {
      "needs_background": "light"
     },
     "output_type": "display_data"
    }
   ],
   "source": [
    "xs = np.linspace(-100, 100, 1000)\n",
    "ys = list(map(f, xs))\n",
    "\n",
    "plt.plot(xs, ys)\n",
    "plt.show()"
   ],
   "metadata": {
    "collapsed": false,
    "pycharm": {
     "name": "#%%\n"
    }
   }
  },
  {
   "cell_type": "code",
   "execution_count": 56,
   "outputs": [
    {
     "name": "stdout",
     "output_type": "stream",
     "text": [
      "[1.13008004e-05] [2.4053364e-16]\n",
      "{'gradient_call_count': 89, 'function_call_count': 90, 'points': array([[-1.98741789e+01,  1.98741789e+01],\n",
      "       [-1.93741819e+01,  1.93741819e+01],\n",
      "       [-1.88741849e+01,  1.88741849e+01],\n",
      "       [-1.83741879e+01,  1.83741879e+01],\n",
      "       [-1.78741909e+01,  1.78741909e+01],\n",
      "       [-1.73741938e+01,  1.73741938e+01],\n",
      "       [-1.68741968e+01,  1.68741968e+01],\n",
      "       [-1.63741998e+01,  1.63741998e+01],\n",
      "       [-1.58742028e+01,  1.58742028e+01],\n",
      "       [-1.53742058e+01,  1.53742058e+01],\n",
      "       [-1.48742087e+01,  1.48742087e+01],\n",
      "       [-1.43742117e+01,  1.43742117e+01],\n",
      "       [-1.38742147e+01,  1.38742147e+01],\n",
      "       [-1.33742177e+01,  1.33742177e+01],\n",
      "       [-1.28742207e+01,  1.28742207e+01],\n",
      "       [-1.23742236e+01,  1.23742236e+01],\n",
      "       [-1.18742266e+01,  1.18742266e+01],\n",
      "       [-1.13742296e+01,  1.13742296e+01],\n",
      "       [-1.08742326e+01,  1.08742326e+01],\n",
      "       [-1.03742356e+01,  1.03742356e+01],\n",
      "       [-9.87423854e+00,  9.87423854e+00],\n",
      "       [-9.37424152e+00,  9.37424152e+00],\n",
      "       [-8.87424450e+00,  8.87424450e+00],\n",
      "       [-8.37424748e+00,  8.37424748e+00],\n",
      "       [-7.87425046e+00,  7.87425046e+00],\n",
      "       [-7.37425344e+00,  7.37425344e+00],\n",
      "       [-6.87425642e+00,  6.87425642e+00],\n",
      "       [-6.37425940e+00,  6.37425940e+00],\n",
      "       [-5.87426239e+00,  5.87426239e+00],\n",
      "       [-5.37426537e+00,  5.37426537e+00],\n",
      "       [-4.87426835e+00,  4.87426835e+00],\n",
      "       [-4.37427133e+00,  4.37427133e+00],\n",
      "       [-3.87427431e+00,  3.87427431e+00],\n",
      "       [-3.37427729e+00,  3.37427729e+00],\n",
      "       [-2.87428027e+00,  2.87428027e+00],\n",
      "       [-2.37428325e+00,  2.37428325e+00],\n",
      "       [-1.87428623e+00,  1.87428623e+00],\n",
      "       [-1.37428921e+00,  1.37428921e+00],\n",
      "       [-8.74292189e-01,  8.74292189e-01],\n",
      "       [-3.74295170e-01,  3.74295170e-01],\n",
      "       [ 1.12936692e-06,  2.40133841e-19],\n",
      "       [ 4.59018602e-06,  1.61190370e-17],\n",
      "       [ 8.00521391e-06,  8.54995057e-17],\n",
      "       [ 1.13019451e-05,  2.40606485e-16],\n",
      "       [ 1.13019202e-05,  2.40604791e-16],\n",
      "       [ 1.13018953e-05,  2.40603097e-16],\n",
      "       [ 1.13018704e-05,  2.40603097e-16],\n",
      "       [ 1.13018455e-05,  2.40601403e-16],\n",
      "       [ 1.13018207e-05,  2.40599709e-16],\n",
      "       [ 1.13017958e-05,  2.40598015e-16],\n",
      "       [ 1.13017709e-05,  2.40596321e-16],\n",
      "       [ 1.13017460e-05,  2.40594626e-16],\n",
      "       [ 1.13017211e-05,  2.40592932e-16],\n",
      "       [ 1.13016962e-05,  2.40591238e-16],\n",
      "       [ 1.13016713e-05,  2.40589544e-16],\n",
      "       [ 1.13016465e-05,  2.40587850e-16],\n",
      "       [ 1.13016216e-05,  2.40586156e-16],\n",
      "       [ 1.13015967e-05,  2.40584462e-16],\n",
      "       [ 1.13015718e-05,  2.40582768e-16],\n",
      "       [ 1.13015469e-05,  2.40581074e-16],\n",
      "       [ 1.13015220e-05,  2.40579380e-16],\n",
      "       [ 1.13014971e-05,  2.40577686e-16],\n",
      "       [ 1.13014723e-05,  2.40577686e-16],\n",
      "       [ 1.13014474e-05,  2.40575992e-16],\n",
      "       [ 1.13014225e-05,  2.40574298e-16],\n",
      "       [ 1.13013976e-05,  2.40572604e-16],\n",
      "       [ 1.13013727e-05,  2.40570910e-16],\n",
      "       [ 1.13013478e-05,  2.40569215e-16],\n",
      "       [ 1.13013230e-05,  2.40567521e-16],\n",
      "       [ 1.13012981e-05,  2.40565827e-16],\n",
      "       [ 1.13012732e-05,  2.40564133e-16],\n",
      "       [ 1.13012483e-05,  2.40562439e-16],\n",
      "       [ 1.13012234e-05,  2.40560745e-16],\n",
      "       [ 1.13011985e-05,  2.40559051e-16],\n",
      "       [ 1.13011736e-05,  2.40557357e-16],\n",
      "       [ 1.13011488e-05,  2.40555663e-16],\n",
      "       [ 1.13011239e-05,  2.40553969e-16],\n",
      "       [ 1.13010990e-05,  2.40552275e-16],\n",
      "       [ 1.13010741e-05,  2.40550581e-16],\n",
      "       [ 1.13010492e-05,  2.40550581e-16],\n",
      "       [ 1.13010243e-05,  2.40548887e-16],\n",
      "       [ 1.13009995e-05,  2.40547193e-16],\n",
      "       [ 1.13009746e-05,  2.40545499e-16],\n",
      "       [ 1.13009497e-05,  2.40543804e-16],\n",
      "       [ 1.13009248e-05,  2.40542110e-16],\n",
      "       [ 1.13008999e-05,  2.40540416e-16],\n",
      "       [ 1.13008751e-05,  2.40538722e-16],\n",
      "       [ 1.13008502e-05,  2.40537028e-16],\n",
      "       [ 1.13008253e-05,  2.40535334e-16],\n",
      "       [ 1.13008004e-05,  2.40533640e-16]])}\n"
     ]
    },
    {
     "data": {
      "text/plain": "<Figure size 432x288 with 1 Axes>",
      "image/png": "[encoded data removed]"
     },
     "metadata": {
      "needs_background": "light"
     },
     "output_type": "display_data"
    }
   ],
   "source": [
    "with warnings.catch_warnings():\n",
    "    warnings.simplefilter(\"ignore\", category=RuntimeWarning)\n",
    "    (x, y), meta = gradient_descent(f, 1, coord_relaxer=LinearCoordRelaxer(f, alpha=5, eps=1e-5))\n",
    "    print(x, y)\n",
    "    print(meta)\n",
    "\n",
    "    plt.plot(meta[\"points\"][:, 0], meta[\"points\"][:, 1], 'r.')\n",
    "    plt.plot(xs, ys)\n",
    "    plt.show()"
   ],
   "metadata": {
    "collapsed": false,
    "pycharm": {
     "name": "#%%\n"
    }
   }
  }
 ],
 "metadata": {
  "kernelspec": {
   "display_name": "Python 3",
   "language": "python",
   "name": "python3"
  },
  "language_info": {
   "codemirror_mode": {
    "name": "ipython",
    "version": 2
   },
   "file_extension": ".py",
   "mimetype": "text/x-python",
   "name": "python",
   "nbconvert_exporter": "python",
   "pygments_lexer": "ipython2",
   "version": "2.7.6"
  }
 },
 "nbformat": 4,
 "nbformat_minor": 0
}