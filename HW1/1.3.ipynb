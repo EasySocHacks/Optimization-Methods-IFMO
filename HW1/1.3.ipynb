{
 "cells": [
  {
   "cell_type": "markdown",
   "source": [
    "Импорт 1.1"
   ],
   "metadata": {
    "collapsed": false
   }
  },
  {
   "cell_type": "code",
   "execution_count": 189,
   "outputs": [
    {
     "data": {
      "text/plain": "<Figure size 432x288 with 1 Axes>",
      "image/png": "[encoded data removed]"
     },
     "metadata": {
      "needs_background": "light"
     },
     "output_type": "display_data"
    },
    {
     "name": "stderr",
     "output_type": "stream",
     "text": [
      "/home/easyhacks/Документы/git/Optimization-Methods-IFMO/venv/lib/python3.8/site-packages/numpy/lib/function_base.py:495: RuntimeWarning: Mean of empty slice.\n",
      "  avg = a.mean(axis)\n",
      "/home/easyhacks/Документы/git/Optimization-Methods-IFMO/venv/lib/python3.8/site-packages/numpy/core/_methods.py:189: RuntimeWarning: invalid value encountered in double_scalars\n",
      "  ret = ret.dtype.type(ret / rcount)\n"
     ]
    },
    {
     "data": {
      "text/plain": "<Figure size 432x288 with 1 Axes>",
      "image/png": "[encoded data removed]"
     },
     "metadata": {
      "needs_background": "light"
     },
     "output_type": "display_data"
    },
    {
     "name": "stdout",
     "output_type": "stream",
     "text": [
      "[35.09508051] [-33.39287671]\n",
      "{'gradient_call_count': 1000, 'function_call_count': 1000}\n"
     ]
    }
   ],
   "source": [
    "%run 1.1.ipynb"
   ],
   "metadata": {
    "collapsed": false,
    "pycharm": {
     "name": "#%%\n"
    }
   }
  },
  {
   "cell_type": "code",
   "execution_count": 190,
   "metadata": {
    "collapsed": true,
    "pycharm": {
     "name": "#%%\n"
    }
   },
   "outputs": [],
   "source": [
    "import numpy as np\n",
    "import random\n",
    "import matplotlib.pyplot as plt"
   ]
  },
  {
   "cell_type": "markdown",
   "source": [
    "Вводим `phi` -- пропорция золотого сечения"
   ],
   "metadata": {
    "collapsed": false
   }
  },
  {
   "cell_type": "code",
   "execution_count": 191,
   "outputs": [
    {
     "name": "stdout",
     "output_type": "stream",
     "text": [
      "1.618033988749895\n"
     ]
    }
   ],
   "source": [
    "phi = (np.sqrt(5) + 1) / 2\n",
    "print(phi)"
   ],
   "metadata": {
    "collapsed": false,
    "pycharm": {
     "name": "#%%\n"
    }
   }
  },
  {
   "cell_type": "markdown",
   "source": [
    "Реализуем метод золотого сечения.\n",
    "---\n",
    "\n",
    "0. Берем отрезок [a, b]\n",
    "1. Ставим на нем две точки `x1` и `x2` в пропорции золотого сечения.\n",
    "    $x_1 = b - {b - a \\over \\phi}$\n",
    "    $x_2 = a + {b - a \\over \\phi}$\n",
    "2. Считаем значения в этих точках\n",
    "    $y_1 = f(x_1)$\n",
    "    $y_2 = f(x_2)$\n",
    "3. Проверяем, если $|y_1 - y_2| < \\varepsilon$, значит мы достаточно близко к ответу (с точностью $\\varepsilon$). Здачит, завершаем программу.\n",
    "4. Сдвигаем границы\n",
    "    Если $y_1 \\leq y_2 \\Rightarrow b = x_2, x_2 = x_1, x_1 = b - {b - a \\over \\phi}, y_2 = y_1, y_1 = f(x_1)$\n",
    "    Если $y_2 \\leq y_1 \\Rightarrow a = x_1, x_1 = x_2, x_2 = a + {b - a \\over \\phi}, y_1 = y_2, y_2 = f(x_2)$\n",
    "5. Возвращаемся к пункту `3`"
   ],
   "metadata": {
    "collapsed": false
   }
  },
  {
   "cell_type": "code",
   "execution_count": 192,
   "outputs": [],
   "source": [
    "eps = 1e-5\n",
    "\n",
    "def find_golden_ratio_point(a, b):\n",
    "    return b - (b - a) / phi, a + (b - a) / phi\n",
    "\n",
    "# noinspection PyUnresolvedReferences\n",
    "def golden_ratio_method(a, b):\n",
    "    function_call_count = np.array([0])\n",
    "\n",
    "    x1, x2 = find_golden_ratio_point(a, b)\n",
    "\n",
    "    y1 = f(x1)\n",
    "    y2 = f(x2)\n",
    "\n",
    "    while np.abs(b - a) > eps:\n",
    "        if y1 < y2:\n",
    "            b = x2\n",
    "\n",
    "            x2 = x1\n",
    "            x1 = find_golden_ratio_point(a, b)[0]\n",
    "\n",
    "            y2 = y1\n",
    "            y1 = f(x1)\n",
    "        else:\n",
    "            a = x1\n",
    "\n",
    "            x1 = x2\n",
    "            x2 = find_golden_ratio_point(a, b)[1]\n",
    "\n",
    "            y1 = y2\n",
    "            y2 = f(x2)\n",
    "\n",
    "        function_call_count += 1\n",
    "\n",
    "    if y1 < y2:\n",
    "        return x1, y1, function_call_count\n",
    "    else:\n",
    "        return x2, y2, function_call_count"
   ],
   "metadata": {
    "collapsed": false,
    "pycharm": {
     "name": "#%%\n"
    }
   }
  },
  {
   "cell_type": "code",
   "execution_count": 193,
   "outputs": [
    {
     "data": {
      "text/plain": "(array([34.99999864]), array([-34.99999864]), array([35]))"
     },
     "execution_count": 193,
     "metadata": {},
     "output_type": "execute_result"
    }
   ],
   "source": [
    "golden_ratio_method(np.array([-100], dtype=np.float64), np.array([100], dtype=np.float64))"
   ],
   "metadata": {
    "collapsed": false,
    "pycharm": {
     "name": "#%%\n"
    }
   }
  },
  {
   "cell_type": "markdown",
   "source": [
    "Реализуем градиентный спуск с использованием метода золотого сечения\n",
    "---\n",
    "\n",
    "TODO"
   ],
   "metadata": {
    "collapsed": false
   }
  },
  {
   "cell_type": "code",
   "execution_count": 194,
   "outputs": [],
   "source": [
    "# noinspection PyUnresolvedReferences\n",
    "def gradient_descent_with_golden_ratio(lr=0.1, iterations=1000, scale=100, check_batch=50, eps=1e-5):\n",
    "    meta = {\n",
    "        \"gradient_call_count\": 0,\n",
    "        \"function_call_count\": 0\n",
    "    }\n",
    "\n",
    "    points = np.array([], dtype=np.float64).reshape(0, 2)\n",
    "\n",
    "    coord = np.random.rand(dim) * random.randint(-scale, scale)\n",
    "\n",
    "    for i in range(iterations):\n",
    "        points = np.append(\n",
    "            points,\n",
    "            np.array([coord, f(coord)], dtype=np.float64).reshape(1, 2),\n",
    "            axis=0\n",
    "        )\n",
    "\n",
    "        meta[\"function_call_count\"] += 1\n",
    "\n",
    "        avg_changes = np.average(np.abs(np.average(points[-check_batch:-1, 1]) - points[-check_batch:-1, 1]))\n",
    "        if points.shape[0] > check_batch and avg_changes < eps:\n",
    "            break\n",
    "\n",
    "        vectorize = np.vectorize(golden_ratio_method)\n",
    "        coord, _, golden_ratio_function_call_count = vectorize(coord, coord - scale * lr * gradient(coord))\n",
    "\n",
    "        meta[\"function_call_count\"] += np.sum(golden_ratio_function_call_count)\n",
    "        meta[\"gradient_call_count\"] += 1\n",
    "\n",
    "    plt.plot(points[:, 0], points[:, 1], 'r.')\n",
    "    plt.plot(xs, ys)\n",
    "    plt.show()\n",
    "\n",
    "    return (coord, f(coord)), meta"
   ],
   "metadata": {
    "collapsed": false,
    "pycharm": {
     "name": "#%%\n"
    }
   }
  },
  {
   "cell_type": "code",
   "execution_count": 195,
   "outputs": [
    {
     "name": "stderr",
     "output_type": "stream",
     "text": [
      "/home/easyhacks/Документы/git/Optimization-Methods-IFMO/venv/lib/python3.8/site-packages/numpy/lib/function_base.py:495: RuntimeWarning: Mean of empty slice.\n",
      "  avg = a.mean(axis)\n",
      "/home/easyhacks/Документы/git/Optimization-Methods-IFMO/venv/lib/python3.8/site-packages/numpy/core/_methods.py:189: RuntimeWarning: invalid value encountered in double_scalars\n",
      "  ret = ret.dtype.type(ret / rcount)\n"
     ]
    },
    {
     "data": {
      "text/plain": "<Figure size 432x288 with 1 Axes>",
      "image/png": "[encoded data removed]"
     },
     "metadata": {
      "needs_background": "light"
     },
     "output_type": "display_data"
    },
    {
     "data": {
      "text/plain": "((array([34.99998997]), array([-34.99998997])),\n {'gradient_call_count': 53, 'function_call_count': 2442})"
     },
     "execution_count": 195,
     "metadata": {},
     "output_type": "execute_result"
    }
   ],
   "source": [
    "gradient_descent_with_golden_ratio()"
   ],
   "metadata": {
    "collapsed": false,
    "pycharm": {
     "name": "#%%\n"
    }
   }
  },
  {
   "cell_type": "markdown",
   "source": [
    "TODO: compare\n",
    "---"
   ],
   "metadata": {
    "collapsed": false
   }
  }
 ],
 "metadata": {
  "kernelspec": {
   "display_name": "Python 3",
   "language": "python",
   "name": "python3"
  },
  "language_info": {
   "codemirror_mode": {
    "name": "ipython",
    "version": 2
   },
   "file_extension": ".py",
   "mimetype": "text/x-python",
   "name": "python",
   "nbconvert_exporter": "python",
   "pygments_lexer": "ipython2",
   "version": "2.7.6"
  }
 },
 "nbformat": 4,
 "nbformat_minor": 0
}